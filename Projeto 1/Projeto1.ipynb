{
 "cells": [
  {
   "cell_type": "markdown",
   "metadata": {},
   "source": [
    "___\n",
    "# Ciência dos Dados - PROJETO 1"
   ]
  },
  {
   "cell_type": "markdown",
   "metadata": {},
   "source": [
    "## Jhonata Ferreira de Souza\n",
    "___"
   ]
  },
  {
   "cell_type": "markdown",
   "metadata": {},
   "source": [
    "## Como o nivel de escolaridade dos adultos influencia a taxa de natalidade de sua região?"
   ]
  },
  {
   "cell_type": "markdown",
   "metadata": {},
   "source": [
    "___\n",
    "## Introdução\n",
    "\n",
    "Nesse projeto iremos analisar a relação entre uma pseudo taxa de natalidade a escolaridade predominante em cada região. Por que pseudo taxa de natalidade? Como na PNAD não é informado a taxa de natalidade usaremos uma medida de proporção como nossa taxa. Ao final desse projeto ao terminarmos nossa analise tanto da PNAD de 2011 quanto de 2015 chegaremos a uma conclusão que ou respondera nossa pergunta inicial ou nos apontara que os dados analisados não têm uma relação tão direta entre si\n"
   ]
  },
  {
   "cell_type": "markdown",
   "metadata": {},
   "source": [
    "## Hipótese\n",
    "\n",
    "A hipótese para esse trabalho é que vamos observar que entre os anos conforme o nivel da educação se eleva e as pessoas das diversar regiões começam a ter formações mais elevadas a pseudo taxa de natalidade diminuira, indicando que com a disseminação da educação as pessoas tendem a ter menos filhos"
   ]
  },
  {
   "cell_type": "markdown",
   "metadata": {},
   "source": [
    "___\n",
    "## Filtros da base de dados"
   ]
  },
  {
   "cell_type": "code",
   "execution_count": 1,
   "metadata": {
    "collapsed": true
   },
   "outputs": [],
   "source": [
    "#Importanto bibliotecas do python a serem usadas\n",
    "%matplotlib inline\n",
    "import pandas as pd\n",
    "import matplotlib.pyplot as plt\n",
    "import numpy as np\n",
    "import os"
   ]
  },
  {
   "cell_type": "code",
   "execution_count": 2,
   "metadata": {
    "collapsed": false
   },
   "outputs": [
    {
     "name": "stdout",
     "output_type": "stream",
     "text": [
      "Esperamos trabalhar no diretório\n",
      "C:\\Users\\jhona\\Downloads\\Ciencia dos Dados DP\\Projeto 1\n"
     ]
    }
   ],
   "source": [
    "#Conferindo o diretório a ser utilizado\n",
    "print('Esperamos trabalhar no diretório')\n",
    "print(os.getcwd())"
   ]
  },
  {
   "cell_type": "markdown",
   "metadata": {},
   "source": [
    "### PNAD 2015"
   ]
  },
  {
   "cell_type": "code",
   "execution_count": 3,
   "metadata": {
    "collapsed": false,
    "scrolled": true
   },
   "outputs": [
    {
     "data": {
      "text/html": [
       "<div>\n",
       "<table border=\"1\" class=\"dataframe\">\n",
       "  <thead>\n",
       "    <tr style=\"text-align: right;\">\n",
       "      <th></th>\n",
       "      <th>Unnamed: 0</th>\n",
       "      <th>V0101</th>\n",
       "      <th>UF</th>\n",
       "      <th>V0102</th>\n",
       "      <th>V0103</th>\n",
       "      <th>V0301</th>\n",
       "      <th>V0302</th>\n",
       "      <th>V3031</th>\n",
       "      <th>V3032</th>\n",
       "      <th>V3033</th>\n",
       "      <th>...</th>\n",
       "      <th>V4741</th>\n",
       "      <th>V4742</th>\n",
       "      <th>V4743</th>\n",
       "      <th>V4745</th>\n",
       "      <th>V4746</th>\n",
       "      <th>V4747</th>\n",
       "      <th>V4748</th>\n",
       "      <th>V4749</th>\n",
       "      <th>V4750</th>\n",
       "      <th>V9993</th>\n",
       "    </tr>\n",
       "  </thead>\n",
       "  <tbody>\n",
       "    <tr>\n",
       "      <th>0</th>\n",
       "      <td>0</td>\n",
       "      <td>2015</td>\n",
       "      <td>11</td>\n",
       "      <td>15</td>\n",
       "      <td>1</td>\n",
       "      <td>1</td>\n",
       "      <td>2</td>\n",
       "      <td>27</td>\n",
       "      <td>2</td>\n",
       "      <td>1992</td>\n",
       "      <td>...</td>\n",
       "      <td>1.0</td>\n",
       "      <td>800.0</td>\n",
       "      <td>4.0</td>\n",
       "      <td>5</td>\n",
       "      <td>1.0</td>\n",
       "      <td>2.0</td>\n",
       "      <td>2.0</td>\n",
       "      <td>1.0</td>\n",
       "      <td>800.0</td>\n",
       "      <td>20161117</td>\n",
       "    </tr>\n",
       "    <tr>\n",
       "      <th>1</th>\n",
       "      <td>1</td>\n",
       "      <td>2015</td>\n",
       "      <td>11</td>\n",
       "      <td>15</td>\n",
       "      <td>3</td>\n",
       "      <td>1</td>\n",
       "      <td>4</td>\n",
       "      <td>4</td>\n",
       "      <td>5</td>\n",
       "      <td>1992</td>\n",
       "      <td>...</td>\n",
       "      <td>1.0</td>\n",
       "      <td>1150.0</td>\n",
       "      <td>4.0</td>\n",
       "      <td>5</td>\n",
       "      <td>1.0</td>\n",
       "      <td>2.0</td>\n",
       "      <td>2.0</td>\n",
       "      <td>1.0</td>\n",
       "      <td>1150.0</td>\n",
       "      <td>20161117</td>\n",
       "    </tr>\n",
       "    <tr>\n",
       "      <th>2</th>\n",
       "      <td>2</td>\n",
       "      <td>2015</td>\n",
       "      <td>11</td>\n",
       "      <td>15</td>\n",
       "      <td>4</td>\n",
       "      <td>1</td>\n",
       "      <td>4</td>\n",
       "      <td>4</td>\n",
       "      <td>1</td>\n",
       "      <td>1980</td>\n",
       "      <td>...</td>\n",
       "      <td>6.0</td>\n",
       "      <td>793.0</td>\n",
       "      <td>4.0</td>\n",
       "      <td>6</td>\n",
       "      <td>1.0</td>\n",
       "      <td>2.0</td>\n",
       "      <td>2.0</td>\n",
       "      <td>1.0</td>\n",
       "      <td>793.0</td>\n",
       "      <td>20161117</td>\n",
       "    </tr>\n",
       "    <tr>\n",
       "      <th>3</th>\n",
       "      <td>3</td>\n",
       "      <td>2015</td>\n",
       "      <td>11</td>\n",
       "      <td>15</td>\n",
       "      <td>4</td>\n",
       "      <td>2</td>\n",
       "      <td>2</td>\n",
       "      <td>5</td>\n",
       "      <td>6</td>\n",
       "      <td>1981</td>\n",
       "      <td>...</td>\n",
       "      <td>6.0</td>\n",
       "      <td>793.0</td>\n",
       "      <td>4.0</td>\n",
       "      <td>7</td>\n",
       "      <td>1.0</td>\n",
       "      <td>2.0</td>\n",
       "      <td>2.0</td>\n",
       "      <td>1.0</td>\n",
       "      <td>793.0</td>\n",
       "      <td>20161117</td>\n",
       "    </tr>\n",
       "    <tr>\n",
       "      <th>4</th>\n",
       "      <td>4</td>\n",
       "      <td>2015</td>\n",
       "      <td>11</td>\n",
       "      <td>15</td>\n",
       "      <td>4</td>\n",
       "      <td>3</td>\n",
       "      <td>4</td>\n",
       "      <td>8</td>\n",
       "      <td>4</td>\n",
       "      <td>2004</td>\n",
       "      <td>...</td>\n",
       "      <td>6.0</td>\n",
       "      <td>793.0</td>\n",
       "      <td>4.0</td>\n",
       "      <td>2</td>\n",
       "      <td>2.0</td>\n",
       "      <td>NaN</td>\n",
       "      <td>NaN</td>\n",
       "      <td>2.0</td>\n",
       "      <td>793.0</td>\n",
       "      <td>20161117</td>\n",
       "    </tr>\n",
       "  </tbody>\n",
       "</table>\n",
       "<p>5 rows × 329 columns</p>\n",
       "</div>"
      ],
      "text/plain": [
       "   Unnamed: 0  V0101  UF  V0102  V0103  V0301  V0302  V3031  V3032  V3033  \\\n",
       "0           0   2015  11     15      1      1      2     27      2   1992   \n",
       "1           1   2015  11     15      3      1      4      4      5   1992   \n",
       "2           2   2015  11     15      4      1      4      4      1   1980   \n",
       "3           3   2015  11     15      4      2      2      5      6   1981   \n",
       "4           4   2015  11     15      4      3      4      8      4   2004   \n",
       "\n",
       "     ...     V4741   V4742  V4743  V4745  V4746  V4747  V4748  V4749   V4750  \\\n",
       "0    ...       1.0   800.0    4.0      5    1.0    2.0    2.0    1.0   800.0   \n",
       "1    ...       1.0  1150.0    4.0      5    1.0    2.0    2.0    1.0  1150.0   \n",
       "2    ...       6.0   793.0    4.0      6    1.0    2.0    2.0    1.0   793.0   \n",
       "3    ...       6.0   793.0    4.0      7    1.0    2.0    2.0    1.0   793.0   \n",
       "4    ...       6.0   793.0    4.0      2    2.0    NaN    NaN    2.0   793.0   \n",
       "\n",
       "      V9993  \n",
       "0  20161117  \n",
       "1  20161117  \n",
       "2  20161117  \n",
       "3  20161117  \n",
       "4  20161117  \n",
       "\n",
       "[5 rows x 329 columns]"
      ]
     },
     "execution_count": 3,
     "metadata": {},
     "output_type": "execute_result"
    }
   ],
   "source": [
    "#Importanto a PNAD completa de 2015\n",
    "data_2015 = pd.read_csv('PES2015csv.zip', compression='zip', header=0, sep=',', quotechar='\"')\n",
    "data_2015.head()"
   ]
  },
  {
   "cell_type": "code",
   "execution_count": 4,
   "metadata": {
    "collapsed": false,
    "scrolled": true
   },
   "outputs": [
    {
     "data": {
      "text/html": [
       "<div>\n",
       "<table border=\"1\" class=\"dataframe\">\n",
       "  <thead>\n",
       "    <tr style=\"text-align: right;\">\n",
       "      <th></th>\n",
       "      <th>UF</th>\n",
       "      <th>V0402</th>\n",
       "      <th>V6007</th>\n",
       "      <th>V0611</th>\n",
       "    </tr>\n",
       "  </thead>\n",
       "  <tbody>\n",
       "    <tr>\n",
       "      <th>0</th>\n",
       "      <td>11</td>\n",
       "      <td>1</td>\n",
       "      <td>5.0</td>\n",
       "      <td>1.0</td>\n",
       "    </tr>\n",
       "    <tr>\n",
       "      <th>1</th>\n",
       "      <td>11</td>\n",
       "      <td>1</td>\n",
       "      <td>5.0</td>\n",
       "      <td>1.0</td>\n",
       "    </tr>\n",
       "    <tr>\n",
       "      <th>2</th>\n",
       "      <td>11</td>\n",
       "      <td>1</td>\n",
       "      <td>NaN</td>\n",
       "      <td>NaN</td>\n",
       "    </tr>\n",
       "    <tr>\n",
       "      <th>3</th>\n",
       "      <td>11</td>\n",
       "      <td>2</td>\n",
       "      <td>8.0</td>\n",
       "      <td>1.0</td>\n",
       "    </tr>\n",
       "    <tr>\n",
       "      <th>4</th>\n",
       "      <td>11</td>\n",
       "      <td>3</td>\n",
       "      <td>NaN</td>\n",
       "      <td>NaN</td>\n",
       "    </tr>\n",
       "  </tbody>\n",
       "</table>\n",
       "</div>"
      ],
      "text/plain": [
       "   UF  V0402  V6007  V0611\n",
       "0  11      1    5.0    1.0\n",
       "1  11      1    5.0    1.0\n",
       "2  11      1    NaN    NaN\n",
       "3  11      2    8.0    1.0\n",
       "4  11      3    NaN    NaN"
      ]
     },
     "execution_count": 4,
     "metadata": {},
     "output_type": "execute_result"
    }
   ],
   "source": [
    "#Criando uma tabela apenas com os dados de interesse\n",
    "data2015 = data_2015.loc[:,['UF','V0402','V6007','V0611']]\n",
    "data2015.head()"
   ]
  },
  {
   "cell_type": "code",
   "execution_count": 5,
   "metadata": {
    "collapsed": false
   },
   "outputs": [
    {
     "data": {
      "text/html": [
       "<div>\n",
       "<table border=\"1\" class=\"dataframe\">\n",
       "  <thead>\n",
       "    <tr style=\"text-align: right;\">\n",
       "      <th></th>\n",
       "      <th>UF</th>\n",
       "      <th>V0402</th>\n",
       "      <th>V6007</th>\n",
       "      <th>V0611</th>\n",
       "      <th>Regiao</th>\n",
       "    </tr>\n",
       "  </thead>\n",
       "  <tbody>\n",
       "    <tr>\n",
       "      <th>0</th>\n",
       "      <td>Rondônia</td>\n",
       "      <td>1</td>\n",
       "      <td>5.0</td>\n",
       "      <td>1.0</td>\n",
       "      <td>Norte</td>\n",
       "    </tr>\n",
       "    <tr>\n",
       "      <th>1</th>\n",
       "      <td>Rondônia</td>\n",
       "      <td>1</td>\n",
       "      <td>5.0</td>\n",
       "      <td>1.0</td>\n",
       "      <td>Norte</td>\n",
       "    </tr>\n",
       "    <tr>\n",
       "      <th>2</th>\n",
       "      <td>Rondônia</td>\n",
       "      <td>1</td>\n",
       "      <td>NaN</td>\n",
       "      <td>NaN</td>\n",
       "      <td>Norte</td>\n",
       "    </tr>\n",
       "    <tr>\n",
       "      <th>3</th>\n",
       "      <td>Rondônia</td>\n",
       "      <td>2</td>\n",
       "      <td>8.0</td>\n",
       "      <td>1.0</td>\n",
       "      <td>Norte</td>\n",
       "    </tr>\n",
       "    <tr>\n",
       "      <th>4</th>\n",
       "      <td>Rondônia</td>\n",
       "      <td>3</td>\n",
       "      <td>NaN</td>\n",
       "      <td>NaN</td>\n",
       "      <td>Norte</td>\n",
       "    </tr>\n",
       "  </tbody>\n",
       "</table>\n",
       "</div>"
      ],
      "text/plain": [
       "         UF  V0402  V6007  V0611 Regiao\n",
       "0  Rondônia      1    5.0    1.0  Norte\n",
       "1  Rondônia      1    5.0    1.0  Norte\n",
       "2  Rondônia      1    NaN    NaN  Norte\n",
       "3  Rondônia      2    8.0    1.0  Norte\n",
       "4  Rondônia      3    NaN    NaN  Norte"
      ]
     },
     "execution_count": 5,
     "metadata": {},
     "output_type": "execute_result"
    }
   ],
   "source": [
    "#Mudando os valores da coluda de estados para o nome dos estados\n",
    "data2015.UF = data2015.UF.astype('category')\n",
    "data2015.UF.cat.categories = (['Rondônia','Acre','Amazonas','Roraima','Pará','Amapá','Tocantins','Maranhão','Piauí','Ceará','Rio Grande do Norte','Paraíba','Pernambuco','Alagoas','Sergipe','Bahia','Minas Gerais','Espírito Santo','Rio de Janeiro','São Paulo','Paraná','Santa Catarina','Rio Grande do Sul','Mato Grosso do Sul','Mato Grosso','Goiás','Distrito Federal'])\n",
    "\n",
    "#Criando uma coluna de Região\n",
    "data2015.loc[(data2015.UF=='Rondônia') | (data2015.UF=='Acre') | (data2015.UF=='Amazonas') | (data2015.UF=='Roraima') | (data2015.UF=='Pará') | (data2015.UF=='Amapá') | (data2015.UF=='Tocantins'),'Regiao'] = 'Norte'\n",
    "data2015.loc[(data2015.UF=='Maranhão') | (data2015.UF=='Piaui') | (data2015.UF=='Caerá') | (data2015.UF=='Rio Grande do Norte') | (data2015.UF=='Paraíba') | (data2015.UF=='Pernambuco') | (data2015.UF=='Alagoas') | (data2015.UF=='Sergipe') | (data2015.UF=='Bahia'),'Regiao'] = 'Nordeste'\n",
    "data2015.loc[(data2015.UF=='Minas Gerais') | (data2015.UF=='Espirito Santo') | (data2015.UF=='Rio de Janeiro') | (data2015.UF=='São Paulo'),'Regiao'] = 'Sudeste'\n",
    "data2015.loc[(data2015.UF=='Paraná') | (data2015.UF=='Santa Catarina') | (data2015.UF=='Rio Grande do Sul'),'Regiao'] = 'Sul'\n",
    "data2015.loc[(data2015.UF=='Mato Grosso do Sul') | (data2015.UF=='Mato Grosso') | (data2015.UF=='Goiás') | (data2015.UF=='Distrito Federal'),'Regiao'] = 'Centroeste'\n",
    "data2015.head()"
   ]
  },
  {
   "cell_type": "code",
   "execution_count": 6,
   "metadata": {
    "collapsed": false,
    "scrolled": true
   },
   "outputs": [
    {
     "data": {
      "text/html": [
       "<div>\n",
       "<table border=\"1\" class=\"dataframe\">\n",
       "  <thead>\n",
       "    <tr style=\"text-align: right;\">\n",
       "      <th></th>\n",
       "      <th>UF</th>\n",
       "      <th>V0402</th>\n",
       "      <th>V6007</th>\n",
       "      <th>V0611</th>\n",
       "      <th>Regiao</th>\n",
       "    </tr>\n",
       "  </thead>\n",
       "  <tbody>\n",
       "    <tr>\n",
       "      <th>0</th>\n",
       "      <td>Rondônia</td>\n",
       "      <td>Pessoa de referência</td>\n",
       "      <td>5.0</td>\n",
       "      <td>1.0</td>\n",
       "      <td>Norte</td>\n",
       "    </tr>\n",
       "    <tr>\n",
       "      <th>1</th>\n",
       "      <td>Rondônia</td>\n",
       "      <td>Pessoa de referência</td>\n",
       "      <td>5.0</td>\n",
       "      <td>1.0</td>\n",
       "      <td>Norte</td>\n",
       "    </tr>\n",
       "    <tr>\n",
       "      <th>2</th>\n",
       "      <td>Rondônia</td>\n",
       "      <td>Pessoa de referência</td>\n",
       "      <td>NaN</td>\n",
       "      <td>NaN</td>\n",
       "      <td>Norte</td>\n",
       "    </tr>\n",
       "    <tr>\n",
       "      <th>3</th>\n",
       "      <td>Rondônia</td>\n",
       "      <td>Cônjuge</td>\n",
       "      <td>8.0</td>\n",
       "      <td>1.0</td>\n",
       "      <td>Norte</td>\n",
       "    </tr>\n",
       "    <tr>\n",
       "      <th>4</th>\n",
       "      <td>Rondônia</td>\n",
       "      <td>Filho</td>\n",
       "      <td>NaN</td>\n",
       "      <td>NaN</td>\n",
       "      <td>Norte</td>\n",
       "    </tr>\n",
       "  </tbody>\n",
       "</table>\n",
       "</div>"
      ],
      "text/plain": [
       "         UF                 V0402  V6007  V0611 Regiao\n",
       "0  Rondônia  Pessoa de referência    5.0    1.0  Norte\n",
       "1  Rondônia  Pessoa de referência    5.0    1.0  Norte\n",
       "2  Rondônia  Pessoa de referência    NaN    NaN  Norte\n",
       "3  Rondônia               Cônjuge    8.0    1.0  Norte\n",
       "4  Rondônia                 Filho    NaN    NaN  Norte"
      ]
     },
     "execution_count": 6,
     "metadata": {},
     "output_type": "execute_result"
    }
   ],
   "source": [
    "#Mudando os valores da coluda de Condição na família para as suas respectivas condições\n",
    "data2015.V0402 = data2015.V0402.astype('category')\n",
    "data2015.V0402.cat.categories = (['Pessoa de referência','Cônjuge','Filho','Outro parente','Agregado','Pensionista','Empregado doméstico','Parente do empregado doméstico'])\n",
    "data2015.head()"
   ]
  },
  {
   "cell_type": "code",
   "execution_count": 7,
   "metadata": {
    "collapsed": false
   },
   "outputs": [],
   "source": [
    "#Subistituindo os NaN da tabela por 0\n",
    "data2015.V6007.fillna(0, inplace=True)\n",
    "data2015.V6007 = data2015.V6007.astype('category')\n",
    "data2015.V0611.fillna(0, inplace=True)\n",
    "data2015.V0611 = data2015.V0611.astype('category')"
   ]
  },
  {
   "cell_type": "code",
   "execution_count": 8,
   "metadata": {
    "collapsed": false
   },
   "outputs": [],
   "source": [
    "#Criando pequenas tabelas separando as pessoeas por região\n",
    "Norte = data2015.loc[(data2015.Regiao=='Norte')]\n",
    "Nordeste = data2015.loc[(data2015.Regiao=='Nordeste')]\n",
    "Sudeste = data2015.loc[(data2015.Regiao=='Sudeste')]\n",
    "Sul = data2015.loc[(data2015.Regiao=='Sul')]\n",
    "Centroeste = data2015.loc[(data2015.Regiao=='Centroeste')]"
   ]
  },
  {
   "cell_type": "code",
   "execution_count": 9,
   "metadata": {
    "collapsed": false,
    "scrolled": true
   },
   "outputs": [],
   "source": [
    "#Criando excel com a nossa tabela filtrada\n",
    "data2015.to_excel(\"data2015.xlsx\", 'Sheet1')"
   ]
  },
  {
   "cell_type": "markdown",
   "metadata": {},
   "source": [
    "## Análise"
   ]
  },
  {
   "cell_type": "markdown",
   "metadata": {},
   "source": [
    "Agora que terminamos as preparações, filtragem ba base de dados e criação de bases de dados auxiliares, iniciaremos nossas análises a partir da premissa de que toda \"pessoa de referência\", as pessoas \"chaves\" de cada residencia, são todas pais em potencial então quando criarmos nossa pseudo taxa de natalidade levaremos em consideração a quantidade de filhos assim como a quantidade de \"pessoa de referência\"\n",
    "\n",
    "Isso dito começaremos análizando a quantidade de pessoas de referência e filhos e criando a nossa pseudo taxa de natalidade"
   ]
  },
  {
   "cell_type": "code",
   "execution_count": 10,
   "metadata": {
    "collapsed": false,
    "scrolled": false
   },
   "outputs": [
    {
     "data": {
      "image/png": "[encoded data removed]",
      "text/plain": [
       "<matplotlib.figure.Figure at 0x1804526a908>"
      ]
     },
     "metadata": {},
     "output_type": "display_data"
    }
   ],
   "source": [
    "#Plotanto a quantidade de pais e filhos por região utilizando o subplot para que fiquem lado a lado\n",
    "fig = plt.figure(figsize=(15, 10))\n",
    "\n",
    "plt.subplot(231)\n",
    "plot = Norte.V0402.loc[(Norte.V0402 == 'Pessoa de referência')|(Norte.V0402 == 'Filho')].value_counts(False).plot(kind='bar',align='center' ,width=0.6 ,title='Norte')\n",
    "plt.xlim([-0.5,1.5])\n",
    "plt.ylim([0,40000])\n",
    "plt.tight_layout()\n",
    "\n",
    "plt.subplot(233)\n",
    "plot = Sul.V0402.loc[(Sul.V0402 == 'Pessoa de referência')|(Sul.V0402 == 'Filho')].value_counts(False).plot(kind='bar',align='center',width=0.6,title='Sul')\n",
    "plt.xlim([-0.5,1.5])\n",
    "plt.ylim([0,40000])\n",
    "plt.tight_layout()\n",
    "\n",
    "plt.subplot(236)\n",
    "plot = Sudeste.V0402.loc[(Sudeste.V0402 == 'Pessoa de referência')|(Sudeste.V0402 == 'Filho')].value_counts(False).plot(kind='bar',align='center',width=0.6,title='Sudeste')\n",
    "plt.xlim([-0.5,1.5])\n",
    "plt.ylim([0,40000])\n",
    "plt.tight_layout()\n",
    "\n",
    "plt.subplot(234)\n",
    "plot = Nordeste.V0402.loc[(Nordeste.V0402 == 'Pessoa de referência')|(Nordeste.V0402 == 'Filho')].value_counts(False).plot(kind='bar',align='center',width=0.6 ,title='Nordeste')\n",
    "plt.xlim([-0.5,1.5])\n",
    "plt.ylim([0,40000])\n",
    "plt.tight_layout()\n",
    "\n",
    "plt.subplot(232)\n",
    "plot = Centroeste.V0402.loc[(Centroeste.V0402 == 'Pessoa de referência')|(Centroeste.V0402 == 'Filho')].value_counts(False).plot(kind='bar',align='center',width=0.6, title='Centroeste')\n",
    "plt.xlim([-0.5,1.5])\n",
    "plt.ylim([0,40000])\n",
    "plt.tight_layout()\n",
    "\n",
    "plt.suptitle('Quantidade de pais e filhos por região', fontsize=30)\n",
    "plt.subplots_adjust(top=0.9)\n",
    "\n",
    "plt.show()"
   ]
  },
  {
   "cell_type": "markdown",
   "metadata": {},
   "source": [
    "Os graficos acima estão plotados de forma que a condição da familia, pessoa de referência ou filho, predominante naquela região fique a esquerda então já podemos perceber que no norte e nordeste a quantidade de filhos é maior do que a quantidade de pessoas de refêrencia diferentemente das outras 3 regiões onde a predominancia é da condição de pessoa de referência.\n",
    "\n",
    "Nossa pseudo taxa de natalidade sera feita da seguinte forma: numero de filhos dividido pelo numero de pessoas de referência"
   ]
  },
  {
   "cell_type": "code",
   "execution_count": 11,
   "metadata": {
    "collapsed": false
   },
   "outputs": [
    {
     "name": "stdout",
     "output_type": "stream",
     "text": [
      "Pseudo taxa de natalidade da região Norte : 1.21761172646\n",
      "Pseudo taxa de natalidade da região Nordeste : 1.08741519421\n",
      "Pseudo taxa de natalidade da região Centroeste : 0.985543827444\n",
      "Pseudo taxa de natalidade da região Sul : 0.886077205518\n",
      "Pseudo taxa de natalidade da região Sudeste : 0.978814157792\n"
     ]
    }
   ],
   "source": [
    "#Fazendo a conta das pseudo taxas de natalidade para todas as regiões\n",
    "\n",
    "Norte_num = Norte.V0402.loc[(Norte.V0402 == 'Pessoa de referência')|(Norte.V0402 == 'Filho')].describe()\n",
    "PTaxaN = Norte_num[3]/(Norte_num[0]-Norte_num[3])\n",
    "\n",
    "Nordeste_num = Nordeste.V0402.loc[(Nordeste.V0402 == 'Pessoa de referência')|(Nordeste.V0402 == 'Filho')].describe()\n",
    "PTaxaND = Nordeste_num[3]/(Nordeste_num[0]-Nordeste_num[3])\n",
    "\n",
    "Centroeste_num = Centroeste.V0402.loc[(Centroeste.V0402 == 'Pessoa de referência')|(Centroeste.V0402 == 'Filho')].describe()\n",
    "PTaxaC = (Centroeste_num[0]-Centroeste_num[3])/Centroeste_num[3]\n",
    "\n",
    "Sul_num = Sul.V0402.loc[(Sul.V0402 == 'Pessoa de referência')|(Sul.V0402 == 'Filho')].describe()\n",
    "PTaxaS = (Sul_num[0]-Sul_num[3])/Sul_num[3]\n",
    "\n",
    "Sudeste_num = Sudeste.V0402.loc[(Sudeste.V0402 == 'Pessoa de referência')|(Sudeste.V0402 == 'Filho')].describe()\n",
    "PTaxaSD = (Sudeste_num[0]-Sudeste_num[3])/Sudeste_num[3]\n",
    "\n",
    "\n",
    "print ('Pseudo taxa de natalidade da região Norte :',PTaxaN)\n",
    "print ('Pseudo taxa de natalidade da região Nordeste :',PTaxaND)\n",
    "print ('Pseudo taxa de natalidade da região Centroeste :',PTaxaC)\n",
    "print ('Pseudo taxa de natalidade da região Sul :',PTaxaS)\n",
    "print ('Pseudo taxa de natalidade da região Sudeste :',PTaxaSD)\n"
   ]
  },
  {
   "cell_type": "markdown",
   "metadata": {},
   "source": [
    "Nosso próximo passo é análisarmos a escolaridade das pessoas de referência, mas para termos dados mais direcionados iremos levar em conta para a analise de escolaridade apenas aqueles que já terminaram seus estudos"
   ]
  },
  {
   "cell_type": "code",
   "execution_count": 12,
   "metadata": {
    "collapsed": false,
    "scrolled": false
   },
   "outputs": [
    {
     "data": {
      "image/png": "[encoded data removed]",
      "text/plain": [
       "<matplotlib.figure.Figure at 0x180061a3860>"
      ]
     },
     "metadata": {},
     "output_type": "display_data"
    }
   ],
   "source": [
    "#Plotagem do grafico de escolaridade, curso mais elevado e que foi concluido \n",
    "\n",
    "fig = plt.figure(figsize=(15, 10))\n",
    "plt.subplot(231)\n",
    "Norte.V6007.loc[(Norte.V0611 == 1) & (Norte.V0402 == 'Pessoa de referência')].value_counts(True, sort = False).plot(kind='bar', title='Norte')\n",
    "plt.tight_layout()\n",
    "plt.ylim(0,0.55)\n",
    "\n",
    "plt.subplot(234)\n",
    "Nordeste.V6007.loc[(Nordeste.V0611 == 1) & (Nordeste.V0402 == 'Pessoa de referência')].value_counts(True, sort = False).plot(kind='bar', title='Nordeste')\n",
    "plt.tight_layout()\n",
    "plt.ylim(0,0.55)\n",
    "\n",
    "plt.subplot(232)\n",
    "Centroeste.V6007.loc[(Centroeste.V0611 == 1) & (Centroeste.V0402 == 'Pessoa de referência')].value_counts(True, sort = False).plot(kind='bar', title='Centroeste')\n",
    "plt.tight_layout()\n",
    "plt.ylim(0,0.55)\n",
    "\n",
    "plt.subplot(233)\n",
    "Sul.V6007.loc[(Sul.V0611 == 1) & (Sul.V0402 == 'Pessoa de referência')].value_counts(True, sort = False).plot(kind='bar', title='Sul')\n",
    "plt.tight_layout()\n",
    "plt.ylim(0,0.55)\n",
    "\n",
    "plt.subplot(236)\n",
    "Sudeste.V6007.loc[(Sudeste.V0611 == 1) & (Sudeste.V0402 == 'Pessoa de referência')].value_counts(True, sort = False).plot(kind='bar', title='Sudeste')\n",
    "plt.tight_layout()\n",
    "plt.ylim(0,0.55)\n",
    "\n",
    "plt.suptitle('Escolaridade', fontsize=30)\n",
    "plt.subplots_adjust(top=0.9)\n",
    "plt.show()"
   ]
  },
  {
   "cell_type": "markdown",
   "metadata": {},
   "source": [
    "#### Com a ajuda desses graficos e com o dicionario da PNAD, não iremos trocar os valores númericos pelos nomes equivalentes por questão de layout pois ficariam nomes muito grande o que acabariam poluindo o plotamento dos gáficos, podemos chegar as seguintes conclusões por Região:\n",
    "\n",
    "##### Norte: \n",
    "O curso mais concluido foi o ensino médio(5) com uma porcentagem por volta de 52% e o segundo mais concluido é a graduação(8) com porcentagem por volta de 20%.\n",
    "\n",
    "##### Nordeste:\n",
    "O curos mais concluido foi o ensino médio(5) com uma porcentagem por volta de 51% e o segundo mais concluido é a graduação(8) com porcentagem por volta de 18%.\n",
    "\n",
    "##### Centroeste\n",
    "O curso mais concluido foi o ensino médio(5) com uma porcentagem por volta de 40% e o segundo mais concluido é a graduação(8) com porcentagem por volta de 28%.\n",
    "\n",
    "##### Sul\n",
    "O curso mais concluido foi o ensino médio(5) com uma porcentagem por volta de 35% e o segundo mais concluido é a graduação(8) com porcentagem por volta de 24%.\n",
    "\n",
    "##### Sudeste\n",
    "O curso mais concluido foi o ensino médio(5) com uma porcentagem por volta de 39% e o segundo mais concluido é a graduação(8) com porcentagem por volta de 24%.\n",
    "\n",
    "\n",
    "\n",
    "Com isso podemos perceber que a base de escolaridade tem suas semelhanças, o indice mais alto é o de conclusão do ensino médio e o segundo é o de conclusão da graduação. Mas vamos focar na diferença que esses dois dados nos indicam, mesmo o primeiro e segundo indice sendo os mesmo a porcentagem de diferenã entre eles varia, entre os estados e é isso que iremos levar e consideração:\n",
    "\n",
    "#### Diferença entre as porcentagens:\n",
    "\n",
    "    Norte: 32% de diferença\n",
    "    \n",
    "    Nordeste: 33% de diferença\n",
    "    \n",
    "    Centroeste: 10% de diferença\n",
    "    \n",
    "    Sul: 11% de diferença\n",
    "    \n",
    "    Sudeste: 15% de diferença"
   ]
  },
  {
   "cell_type": "code",
   "execution_count": 13,
   "metadata": {
    "collapsed": false
   },
   "outputs": [
    {
     "name": "stdout",
     "output_type": "stream",
     "text": [
      "Cruzando nossas duas analises:\n",
      "\n",
      "Norte:\n",
      "    Porcentagem da diferença: 32% \n",
      "    Pseudo taxa de natalidade: 1.22 \n",
      "\n",
      "Nordeste:\n",
      "    Porcentagem da diferença: 33% \n",
      "    Pseudo taxa de natalidade: 1.09 \n",
      "\n",
      "Centroeste:\n",
      "    Porcentagem da diferença: 10% \n",
      "    Pseudo taxa de natalidade: 0.99 \n",
      "\n",
      "Sul:\n",
      "    Porcentagem da diferença: 11%\n",
      "    Pseudo taxa de natalidade: 0.89 \n",
      "\n",
      "Sudeste:\n",
      "    Porcentagem da diferença: 15%\n",
      "    Pseudo taxa de natalidade: 0.98\n"
     ]
    }
   ],
   "source": [
    "print ('Cruzando nossas duas analises:\\n\\nNorte:\\n    Porcentagem da diferença: 32% \\n    Pseudo taxa de natalidade:', PTaxaN.round(2), '\\n\\nNordeste:\\n    Porcentagem da diferença: 33% \\n    Pseudo taxa de natalidade:', PTaxaND.round(2), '\\n\\nCentroeste:\\n    Porcentagem da diferença: 10% \\n    Pseudo taxa de natalidade:',PTaxaC.round(2),'\\n\\nSul:\\n    Porcentagem da diferença: 11%\\n    Pseudo taxa de natalidade:',PTaxaS.round(2), '\\n\\nSudeste:\\n    Porcentagem da diferença: 15%\\n    Pseudo taxa de natalidade:',PTaxaSD.round(2))"
   ]
  },
  {
   "cell_type": "markdown",
   "metadata": {},
   "source": [
    "Conclusão intermediaria: Nas regiões norte e nordeste onde a porcentagem da diferença é maior que 30% a nossa pseudo taxa esta acima de 1 e nas outras três regiões onde a diferença esta entre 10% e 15% a pseudo taxa esta abaixo de 1\n",
    "\n",
    "Mas ainda não podemos afirmar que essa ligação é realmente tão direta quanto parece, para tornar nossa análise mais precisa faremos essa mesma análise na PNAD de 2011 e então compararemos as diferenças e semelhanças nos dados entre as duas PNADs"
   ]
  },
  {
   "cell_type": "markdown",
   "metadata": {},
   "source": [
    "### PNAD 2011"
   ]
  },
  {
   "cell_type": "code",
   "execution_count": 14,
   "metadata": {
    "collapsed": false
   },
   "outputs": [
    {
     "data": {
      "text/html": [
       "<div>\n",
       "<table border=\"1\" class=\"dataframe\">\n",
       "  <thead>\n",
       "    <tr style=\"text-align: right;\">\n",
       "      <th></th>\n",
       "      <th>V0101</th>\n",
       "      <th>UF</th>\n",
       "      <th>V0102</th>\n",
       "      <th>V0103</th>\n",
       "      <th>V0301</th>\n",
       "      <th>V0302</th>\n",
       "      <th>V3031</th>\n",
       "      <th>V3032</th>\n",
       "      <th>V3033</th>\n",
       "      <th>V8005</th>\n",
       "      <th>...</th>\n",
       "      <th>V4741</th>\n",
       "      <th>V4742</th>\n",
       "      <th>V4743</th>\n",
       "      <th>V4745</th>\n",
       "      <th>V4746</th>\n",
       "      <th>V4747</th>\n",
       "      <th>V4748</th>\n",
       "      <th>V4749</th>\n",
       "      <th>V4750</th>\n",
       "      <th>V9993</th>\n",
       "    </tr>\n",
       "  </thead>\n",
       "  <tbody>\n",
       "    <tr>\n",
       "      <th>0</th>\n",
       "      <td>2011</td>\n",
       "      <td>11</td>\n",
       "      <td>11000000.0</td>\n",
       "      <td>1</td>\n",
       "      <td>1</td>\n",
       "      <td>2</td>\n",
       "      <td>25</td>\n",
       "      <td>12</td>\n",
       "      <td>1961</td>\n",
       "      <td>49</td>\n",
       "      <td>...</td>\n",
       "      <td>4.0</td>\n",
       "      <td>1.000000e+12</td>\n",
       "      <td>99.0</td>\n",
       "      <td>2</td>\n",
       "      <td>1.0</td>\n",
       "      <td>2.0</td>\n",
       "      <td>2.0</td>\n",
       "      <td>1.0</td>\n",
       "      <td>1.000000e+12</td>\n",
       "      <td>20100000.0</td>\n",
       "    </tr>\n",
       "    <tr>\n",
       "      <th>1</th>\n",
       "      <td>2011</td>\n",
       "      <td>11</td>\n",
       "      <td>11000000.0</td>\n",
       "      <td>1</td>\n",
       "      <td>2</td>\n",
       "      <td>4</td>\n",
       "      <td>1</td>\n",
       "      <td>4</td>\n",
       "      <td>1978</td>\n",
       "      <td>33</td>\n",
       "      <td>...</td>\n",
       "      <td>4.0</td>\n",
       "      <td>1.000000e+12</td>\n",
       "      <td>99.0</td>\n",
       "      <td>6</td>\n",
       "      <td>2.0</td>\n",
       "      <td>NaN</td>\n",
       "      <td>NaN</td>\n",
       "      <td>2.0</td>\n",
       "      <td>1.000000e+12</td>\n",
       "      <td>20100000.0</td>\n",
       "    </tr>\n",
       "    <tr>\n",
       "      <th>2</th>\n",
       "      <td>2011</td>\n",
       "      <td>11</td>\n",
       "      <td>11000000.0</td>\n",
       "      <td>1</td>\n",
       "      <td>3</td>\n",
       "      <td>4</td>\n",
       "      <td>15</td>\n",
       "      <td>6</td>\n",
       "      <td>1996</td>\n",
       "      <td>15</td>\n",
       "      <td>...</td>\n",
       "      <td>4.0</td>\n",
       "      <td>1.000000e+12</td>\n",
       "      <td>99.0</td>\n",
       "      <td>3</td>\n",
       "      <td>2.0</td>\n",
       "      <td>NaN</td>\n",
       "      <td>NaN</td>\n",
       "      <td>2.0</td>\n",
       "      <td>1.000000e+12</td>\n",
       "      <td>20100000.0</td>\n",
       "    </tr>\n",
       "    <tr>\n",
       "      <th>3</th>\n",
       "      <td>2011</td>\n",
       "      <td>11</td>\n",
       "      <td>11000000.0</td>\n",
       "      <td>1</td>\n",
       "      <td>4</td>\n",
       "      <td>2</td>\n",
       "      <td>3</td>\n",
       "      <td>12</td>\n",
       "      <td>2001</td>\n",
       "      <td>9</td>\n",
       "      <td>...</td>\n",
       "      <td>4.0</td>\n",
       "      <td>1.000000e+12</td>\n",
       "      <td>99.0</td>\n",
       "      <td>2</td>\n",
       "      <td>2.0</td>\n",
       "      <td>NaN</td>\n",
       "      <td>NaN</td>\n",
       "      <td>2.0</td>\n",
       "      <td>1.000000e+12</td>\n",
       "      <td>20100000.0</td>\n",
       "    </tr>\n",
       "    <tr>\n",
       "      <th>4</th>\n",
       "      <td>2011</td>\n",
       "      <td>11</td>\n",
       "      <td>11000000.0</td>\n",
       "      <td>2</td>\n",
       "      <td>1</td>\n",
       "      <td>4</td>\n",
       "      <td>16</td>\n",
       "      <td>10</td>\n",
       "      <td>1959</td>\n",
       "      <td>51</td>\n",
       "      <td>...</td>\n",
       "      <td>4.0</td>\n",
       "      <td>1.461000e+03</td>\n",
       "      <td>5.0</td>\n",
       "      <td>4</td>\n",
       "      <td>1.0</td>\n",
       "      <td>2.0</td>\n",
       "      <td>2.0</td>\n",
       "      <td>1.0</td>\n",
       "      <td>1.461000e+03</td>\n",
       "      <td>20100000.0</td>\n",
       "    </tr>\n",
       "  </tbody>\n",
       "</table>\n",
       "<p>5 rows × 324 columns</p>\n",
       "</div>"
      ],
      "text/plain": [
       "   V0101  UF       V0102  V0103  V0301  V0302  V3031  V3032  V3033  V8005  \\\n",
       "0   2011  11  11000000.0      1      1      2     25     12   1961     49   \n",
       "1   2011  11  11000000.0      1      2      4      1      4   1978     33   \n",
       "2   2011  11  11000000.0      1      3      4     15      6   1996     15   \n",
       "3   2011  11  11000000.0      1      4      2      3     12   2001      9   \n",
       "4   2011  11  11000000.0      2      1      4     16     10   1959     51   \n",
       "\n",
       "      ...      V4741         V4742  V4743  V4745  V4746  V4747  V4748  V4749  \\\n",
       "0     ...        4.0  1.000000e+12   99.0      2    1.0    2.0    2.0    1.0   \n",
       "1     ...        4.0  1.000000e+12   99.0      6    2.0    NaN    NaN    2.0   \n",
       "2     ...        4.0  1.000000e+12   99.0      3    2.0    NaN    NaN    2.0   \n",
       "3     ...        4.0  1.000000e+12   99.0      2    2.0    NaN    NaN    2.0   \n",
       "4     ...        4.0  1.461000e+03    5.0      4    1.0    2.0    2.0    1.0   \n",
       "\n",
       "          V4750       V9993  \n",
       "0  1.000000e+12  20100000.0  \n",
       "1  1.000000e+12  20100000.0  \n",
       "2  1.000000e+12  20100000.0  \n",
       "3  1.000000e+12  20100000.0  \n",
       "4  1.461000e+03  20100000.0  \n",
       "\n",
       "[5 rows x 324 columns]"
      ]
     },
     "execution_count": 14,
     "metadata": {},
     "output_type": "execute_result"
    }
   ],
   "source": [
    "#Importanto a PNAD completa de 2011\n",
    "data_2011 = pd.read_csv('PES2011csv.zip', compression='zip', header=0, sep=',', quotechar='\"')\n",
    "data_2011.head()"
   ]
  },
  {
   "cell_type": "code",
   "execution_count": 15,
   "metadata": {
    "collapsed": false
   },
   "outputs": [
    {
     "data": {
      "text/html": [
       "<div>\n",
       "<table border=\"1\" class=\"dataframe\">\n",
       "  <thead>\n",
       "    <tr style=\"text-align: right;\">\n",
       "      <th></th>\n",
       "      <th>UF</th>\n",
       "      <th>V0402</th>\n",
       "      <th>V6007</th>\n",
       "      <th>V0611</th>\n",
       "    </tr>\n",
       "  </thead>\n",
       "  <tbody>\n",
       "    <tr>\n",
       "      <th>0</th>\n",
       "      <td>11</td>\n",
       "      <td>1</td>\n",
       "      <td>1.0</td>\n",
       "      <td>3.0</td>\n",
       "    </tr>\n",
       "    <tr>\n",
       "      <th>1</th>\n",
       "      <td>11</td>\n",
       "      <td>2</td>\n",
       "      <td>NaN</td>\n",
       "      <td>NaN</td>\n",
       "    </tr>\n",
       "    <tr>\n",
       "      <th>2</th>\n",
       "      <td>11</td>\n",
       "      <td>3</td>\n",
       "      <td>NaN</td>\n",
       "      <td>NaN</td>\n",
       "    </tr>\n",
       "    <tr>\n",
       "      <th>3</th>\n",
       "      <td>11</td>\n",
       "      <td>3</td>\n",
       "      <td>NaN</td>\n",
       "      <td>NaN</td>\n",
       "    </tr>\n",
       "    <tr>\n",
       "      <th>4</th>\n",
       "      <td>11</td>\n",
       "      <td>1</td>\n",
       "      <td>5.0</td>\n",
       "      <td>3.0</td>\n",
       "    </tr>\n",
       "  </tbody>\n",
       "</table>\n",
       "</div>"
      ],
      "text/plain": [
       "   UF  V0402  V6007  V0611\n",
       "0  11      1    1.0    3.0\n",
       "1  11      2    NaN    NaN\n",
       "2  11      3    NaN    NaN\n",
       "3  11      3    NaN    NaN\n",
       "4  11      1    5.0    3.0"
      ]
     },
     "execution_count": 15,
     "metadata": {},
     "output_type": "execute_result"
    }
   ],
   "source": [
    "#Criando uma tabela apenas com os dados de interesse\n",
    "data2011 = data_2011.loc[:,['UF','V0402','V6007','V0611']]\n",
    "data2011.head()"
   ]
  },
  {
   "cell_type": "code",
   "execution_count": 16,
   "metadata": {
    "collapsed": false,
    "scrolled": true
   },
   "outputs": [
    {
     "data": {
      "text/html": [
       "<div>\n",
       "<table border=\"1\" class=\"dataframe\">\n",
       "  <thead>\n",
       "    <tr style=\"text-align: right;\">\n",
       "      <th></th>\n",
       "      <th>UF</th>\n",
       "      <th>V0402</th>\n",
       "      <th>V6007</th>\n",
       "      <th>V0611</th>\n",
       "      <th>Regiao</th>\n",
       "    </tr>\n",
       "  </thead>\n",
       "  <tbody>\n",
       "    <tr>\n",
       "      <th>0</th>\n",
       "      <td>Rondônia</td>\n",
       "      <td>1</td>\n",
       "      <td>1.0</td>\n",
       "      <td>3.0</td>\n",
       "      <td>Norte</td>\n",
       "    </tr>\n",
       "    <tr>\n",
       "      <th>1</th>\n",
       "      <td>Rondônia</td>\n",
       "      <td>2</td>\n",
       "      <td>NaN</td>\n",
       "      <td>NaN</td>\n",
       "      <td>Norte</td>\n",
       "    </tr>\n",
       "    <tr>\n",
       "      <th>2</th>\n",
       "      <td>Rondônia</td>\n",
       "      <td>3</td>\n",
       "      <td>NaN</td>\n",
       "      <td>NaN</td>\n",
       "      <td>Norte</td>\n",
       "    </tr>\n",
       "    <tr>\n",
       "      <th>3</th>\n",
       "      <td>Rondônia</td>\n",
       "      <td>3</td>\n",
       "      <td>NaN</td>\n",
       "      <td>NaN</td>\n",
       "      <td>Norte</td>\n",
       "    </tr>\n",
       "    <tr>\n",
       "      <th>4</th>\n",
       "      <td>Rondônia</td>\n",
       "      <td>1</td>\n",
       "      <td>5.0</td>\n",
       "      <td>3.0</td>\n",
       "      <td>Norte</td>\n",
       "    </tr>\n",
       "  </tbody>\n",
       "</table>\n",
       "</div>"
      ],
      "text/plain": [
       "         UF  V0402  V6007  V0611 Regiao\n",
       "0  Rondônia      1    1.0    3.0  Norte\n",
       "1  Rondônia      2    NaN    NaN  Norte\n",
       "2  Rondônia      3    NaN    NaN  Norte\n",
       "3  Rondônia      3    NaN    NaN  Norte\n",
       "4  Rondônia      1    5.0    3.0  Norte"
      ]
     },
     "execution_count": 16,
     "metadata": {},
     "output_type": "execute_result"
    }
   ],
   "source": [
    "#Mudando os valores da coluda de estados para o nome dos estados\n",
    "data2011.UF = data2011.UF.astype('category')\n",
    "data2011.UF.cat.categories = (['Rondônia','Acre','Amazonas','Roraima','Pará','Amapá','Tocantins','Maranhão','Piauí','Ceará','Rio Grande do Norte','Paraíba','Pernambuco','Alagoas','Sergipe','Bahia','Minas Gerais','Espírito Santo','Rio de Janeiro','São Paulo','Paraná','Santa Catarina','Rio Grande do Sul','Mato Grosso do Sul','Mato Grosso','Goiás','Distrito Federal'])\n",
    "\n",
    "#Criando uma coluna de Região\n",
    "data2011.loc[(data2011.UF=='Rondônia') | (data2011.UF=='Acre') | (data2011.UF=='Amazonas') | (data2011.UF=='Roraima') | (data2011.UF=='Pará') | (data2011.UF=='Amapá') | (data2011.UF=='Tocantins'),'Regiao'] = 'Norte'\n",
    "data2011.loc[(data2011.UF=='Maranhão') | (data2011.UF=='Piaui') | (data2011.UF=='Caerá') | (data2011.UF=='Rio Grande do Norte') | (data2011.UF=='Paraíba') | (data2011.UF=='Pernambuco') | (data2011.UF=='Alagoas') | (data2011.UF=='Sergipe') | (data2011.UF=='Bahia'),'Regiao'] = 'Nordeste'\n",
    "data2011.loc[(data2011.UF=='Minas Gerais') | (data2011.UF=='Espirito Santo') | (data2011.UF=='Rio de Janeiro') | (data2011.UF=='São Paulo'),'Regiao'] = 'Sudeste'\n",
    "data2011.loc[(data2011.UF=='Paraná') | (data2011.UF=='Santa Catarina') | (data2011.UF=='Rio Grande do Sul'),'Regiao'] = 'Sul'\n",
    "data2011.loc[(data2011.UF=='Mato Grosso do Sul') | (data2011.UF=='Mato Grosso') | (data2011.UF=='Goiás') | (data2011.UF=='Distrito Federal'),'Regiao'] = 'Centroeste'\n",
    "data2011.head()"
   ]
  },
  {
   "cell_type": "code",
   "execution_count": 17,
   "metadata": {
    "collapsed": false
   },
   "outputs": [
    {
     "data": {
      "text/html": [
       "<div>\n",
       "<table border=\"1\" class=\"dataframe\">\n",
       "  <thead>\n",
       "    <tr style=\"text-align: right;\">\n",
       "      <th></th>\n",
       "      <th>UF</th>\n",
       "      <th>V0402</th>\n",
       "      <th>V6007</th>\n",
       "      <th>V0611</th>\n",
       "      <th>Regiao</th>\n",
       "    </tr>\n",
       "  </thead>\n",
       "  <tbody>\n",
       "    <tr>\n",
       "      <th>0</th>\n",
       "      <td>Rondônia</td>\n",
       "      <td>Pessoa de referência</td>\n",
       "      <td>1.0</td>\n",
       "      <td>3.0</td>\n",
       "      <td>Norte</td>\n",
       "    </tr>\n",
       "    <tr>\n",
       "      <th>1</th>\n",
       "      <td>Rondônia</td>\n",
       "      <td>Cônjuge</td>\n",
       "      <td>NaN</td>\n",
       "      <td>NaN</td>\n",
       "      <td>Norte</td>\n",
       "    </tr>\n",
       "    <tr>\n",
       "      <th>2</th>\n",
       "      <td>Rondônia</td>\n",
       "      <td>Filho</td>\n",
       "      <td>NaN</td>\n",
       "      <td>NaN</td>\n",
       "      <td>Norte</td>\n",
       "    </tr>\n",
       "    <tr>\n",
       "      <th>3</th>\n",
       "      <td>Rondônia</td>\n",
       "      <td>Filho</td>\n",
       "      <td>NaN</td>\n",
       "      <td>NaN</td>\n",
       "      <td>Norte</td>\n",
       "    </tr>\n",
       "    <tr>\n",
       "      <th>4</th>\n",
       "      <td>Rondônia</td>\n",
       "      <td>Pessoa de referência</td>\n",
       "      <td>5.0</td>\n",
       "      <td>3.0</td>\n",
       "      <td>Norte</td>\n",
       "    </tr>\n",
       "  </tbody>\n",
       "</table>\n",
       "</div>"
      ],
      "text/plain": [
       "         UF                 V0402  V6007  V0611 Regiao\n",
       "0  Rondônia  Pessoa de referência    1.0    3.0  Norte\n",
       "1  Rondônia               Cônjuge    NaN    NaN  Norte\n",
       "2  Rondônia                 Filho    NaN    NaN  Norte\n",
       "3  Rondônia                 Filho    NaN    NaN  Norte\n",
       "4  Rondônia  Pessoa de referência    5.0    3.0  Norte"
      ]
     },
     "execution_count": 17,
     "metadata": {},
     "output_type": "execute_result"
    }
   ],
   "source": [
    "#Mudando os valores da coluda de Condição na família para as suas respectivas condições\n",
    "data2011.V0402 = data2011.V0402.astype('category')\n",
    "data2011.V0402.cat.categories = (['Pessoa de referência','Cônjuge','Filho','Outro parente','Agregado','Pensionista','Empregado doméstico','Parente do empregado doméstico'])\n",
    "data2011.head()"
   ]
  },
  {
   "cell_type": "code",
   "execution_count": 18,
   "metadata": {
    "collapsed": false
   },
   "outputs": [],
   "source": [
    "#Subistituindo os NaN da tabela por 0\n",
    "data2011.V6007.fillna(0, inplace=True)\n",
    "data2011.V6007 = data2011.V6007.astype('category')\n",
    "data2011.V0611.fillna(0, inplace=True)\n",
    "data2011.V0611 = data2011.V0611.astype('category')"
   ]
  },
  {
   "cell_type": "code",
   "execution_count": 19,
   "metadata": {
    "collapsed": false
   },
   "outputs": [],
   "source": [
    "#Criando pequenas tabelas separando as pessoeas por região\n",
    "Norte11 = data2011.loc[(data2011.Regiao=='Norte')]\n",
    "Nordeste11 = data2011.loc[(data2011.Regiao=='Nordeste')]\n",
    "Sudeste11 = data2011.loc[(data2011.Regiao=='Sudeste')]\n",
    "Sul11 = data2011.loc[(data2011.Regiao=='Sul')]\n",
    "Centroeste11 = data2011.loc[(data2011.Regiao=='Centroeste')]"
   ]
  },
  {
   "cell_type": "code",
   "execution_count": 20,
   "metadata": {
    "collapsed": false
   },
   "outputs": [],
   "source": [
    "#Criando excel com a nossa tabela filtrada\n",
    "data2011.to_excel(\"data2011.xlsx\", 'Sheet1')"
   ]
  },
  {
   "cell_type": "code",
   "execution_count": 21,
   "metadata": {
    "collapsed": false
   },
   "outputs": [
    {
     "data": {
      "image/png": "[encoded data removed]",
      "text/plain": [
       "<matplotlib.figure.Figure at 0x1804575ee48>"
      ]
     },
     "metadata": {},
     "output_type": "display_data"
    }
   ],
   "source": [
    "#Plotanto a quantidade de pais e filhos por região utilizando o subplot para que fiquem lado a lado\n",
    "fig = plt.figure(figsize=(15, 10))\n",
    "\n",
    "plt.subplot(231)\n",
    "plot = Norte11.V0402.loc[(Norte11.V0402 == 'Pessoa de referência')|(Norte11.V0402 == 'Filho')].value_counts(False).plot(kind='bar',align='center' ,width=0.6 ,title='Norte')\n",
    "plt.xlim([-0.5,1.5])\n",
    "plt.ylim([0,40000])\n",
    "plt.tight_layout()\n",
    "\n",
    "plt.subplot(233)\n",
    "plot = Sul11.V0402.loc[(Sul11.V0402 == 'Pessoa de referência')|(Sul11.V0402 == 'Filho')].value_counts(False).plot(kind='bar',align='center',width=0.6,title='Sul')\n",
    "plt.xlim([-0.5,1.5])\n",
    "plt.ylim([0,40000])\n",
    "plt.tight_layout()\n",
    "\n",
    "plt.subplot(236)\n",
    "plot = Sudeste11.V0402.loc[(Sudeste11.V0402 == 'Pessoa de referência')|(Sudeste11.V0402 == 'Filho')].value_counts(False).plot(kind='bar',align='center',width=0.6,title='Sudeste')\n",
    "plt.xlim([-0.5,1.5])\n",
    "plt.ylim([0,40000])\n",
    "plt.tight_layout()\n",
    "\n",
    "plt.subplot(234)\n",
    "plot = Nordeste11.V0402.loc[(Nordeste11.V0402 == 'Pessoa de referência')|(Nordeste11.V0402 == 'Filho')].value_counts(False).plot(kind='bar',align='center',width=0.6 ,title='Nordeste')\n",
    "plt.xlim([-0.5,1.5])\n",
    "plt.ylim([0,40000])\n",
    "plt.tight_layout()\n",
    "\n",
    "plt.subplot(232)\n",
    "plot = Centroeste11.V0402.loc[(Centroeste11.V0402 == 'Pessoa de referência')|(Centroeste11.V0402 == 'Filho')].value_counts(False).plot(kind='bar',align='center',width=0.6, title='Centroeste')\n",
    "plt.xlim([-0.5,1.5])\n",
    "plt.ylim([0,40000])\n",
    "plt.tight_layout()\n",
    "\n",
    "plt.suptitle('Quantidade de pais e filhos por região', fontsize=30)\n",
    "plt.subplots_adjust(top=0.9)\n",
    "\n",
    "plt.show()"
   ]
  },
  {
   "cell_type": "code",
   "execution_count": 22,
   "metadata": {
    "collapsed": false
   },
   "outputs": [
    {
     "name": "stdout",
     "output_type": "stream",
     "text": [
      "Pseudo taxa de natalidade da região Norte : 1.39277957147\n",
      "Pseudo taxa de natalidade da região Nordeste : 1.22826296511\n",
      "Pseudo taxa de natalidade da região Centroeste : 1.09244227283\n",
      "Pseudo taxa de natalidade da região Sul : 1.00178443969\n",
      "Pseudo taxa de natalidade da região Sudeste : 1.0771148106\n"
     ]
    }
   ],
   "source": [
    "#Fazendo a conta das pseudo taxas de natalidade para todas as regiões\n",
    "\n",
    "Norte11_num = Norte11.V0402.loc[(Norte11.V0402 == 'Pessoa de referência')|(Norte11.V0402 == 'Filho')].describe()\n",
    "PTaxaN11 = Norte11_num[3]/(Norte11_num[0]-Norte11_num[3])\n",
    "\n",
    "Nordeste11_num = Nordeste11.V0402.loc[(Nordeste11.V0402 == 'Pessoa de referência')|(Nordeste11.V0402 == 'Filho')].describe()\n",
    "PTaxaND11 = Nordeste11_num[3]/(Nordeste11_num[0]-Nordeste11_num[3])\n",
    "\n",
    "Centroeste11_num = Centroeste11.V0402.loc[(Centroeste11.V0402 == 'Pessoa de referência')|(Centroeste11.V0402 == 'Filho')].describe()\n",
    "PTaxaC11 = Centroeste11_num[3]/(Centroeste11_num[0]-Centroeste11_num[3])\n",
    "\n",
    "Sul11_num = Sul11.V0402.loc[(Sul11.V0402 == 'Pessoa de referência')|(Sul11.V0402 == 'Filho')].describe()\n",
    "PTaxaS11 = Sul11_num[3]/(Sul11_num[0]-Sul11_num[3])\n",
    "\n",
    "Sudeste11_num = Sudeste11.V0402.loc[(Sudeste11.V0402 == 'Pessoa de referência')|(Sudeste11.V0402 == 'Filho')].describe()\n",
    "PTaxaSD11 = Sudeste11_num[3]/(Sudeste11_num[0]-Sudeste11_num[3])\n",
    "\n",
    "\n",
    "print ('Pseudo taxa de natalidade da região Norte :',PTaxaN11)\n",
    "print ('Pseudo taxa de natalidade da região Nordeste :',PTaxaND11)\n",
    "print ('Pseudo taxa de natalidade da região Centroeste :',PTaxaC11)\n",
    "print ('Pseudo taxa de natalidade da região Sul :',PTaxaS11)\n",
    "print ('Pseudo taxa de natalidade da região Sudeste :',PTaxaSD11)"
   ]
  },
  {
   "cell_type": "code",
   "execution_count": 23,
   "metadata": {
    "collapsed": false,
    "scrolled": false
   },
   "outputs": [
    {
     "data": {
      "image/png": "[encoded data removed]",
      "text/plain": [
       "<matplotlib.figure.Figure at 0x1800504a550>"
      ]
     },
     "metadata": {},
     "output_type": "display_data"
    }
   ],
   "source": [
    "#Plotagem do grafico de escolaridade, curso mais elevado e que foi concluido \n",
    "\n",
    "fig = plt.figure(figsize=(15, 10))\n",
    "plt.subplot(231)\n",
    "Norte11.V6007.loc[(Norte11.V0611 == 1) & (Norte11.V0402 == 'Pessoa de referência')].value_counts(True, sort = False).plot(kind='bar', title='Norte')\n",
    "plt.tight_layout()\n",
    "plt.ylim(0,0.55)\n",
    "\n",
    "plt.subplot(234)\n",
    "Nordeste11.V6007.loc[(Nordeste11.V0611 == 1) & (Nordeste11.V0402 == 'Pessoa de referência')].value_counts(True, sort = False).plot(kind='bar', title='Nordeste')\n",
    "plt.tight_layout()\n",
    "plt.ylim(0,0.55)\n",
    "\n",
    "plt.subplot(232)\n",
    "Centroeste11.V6007.loc[(Centroeste11.V0611 == 1) & (Centroeste11.V0402 == 'Pessoa de referência')].value_counts(True, sort = False).plot(kind='bar', title='Centroeste')\n",
    "plt.tight_layout()\n",
    "plt.ylim(0,0.55)\n",
    "\n",
    "plt.subplot(233)\n",
    "Sul11.V6007.loc[(Sul11.V0611 == 1) & (Sul11.V0402 == 'Pessoa de referência')].value_counts(True, sort = False).plot(kind='bar', title='Sul')\n",
    "plt.tight_layout()\n",
    "plt.ylim(0,0.55)\n",
    "\n",
    "plt.subplot(236)\n",
    "Sudeste11.V6007.loc[(Sudeste11.V0611 == 1) & (Sudeste11.V0402 == 'Pessoa de referência')].value_counts(True, sort = False).plot(kind='bar', title='Sudeste')\n",
    "plt.tight_layout()\n",
    "plt.ylim(0,0.55)\n",
    "\n",
    "plt.suptitle('Escolaridade', fontsize=30)\n",
    "plt.subplots_adjust(top=0.9)\n",
    "plt.show()"
   ]
  },
  {
   "cell_type": "markdown",
   "metadata": {
    "collapsed": true
   },
   "source": [
    "##### Norte: \n",
    "O curso mais concluido foi o ensino médio(5) com uma porcentagem por volta de 50% e o segundo mais concluido é a graduação(8) com porcentagem por volta de 18%.\n",
    "\n",
    "##### Nordeste:\n",
    "O curos mais concluido foi o ensino médio(5) com uma porcentagem por volta de 48% e o segundo mais concluido é a graduação(8) com porcentagem por volta de 18%.\n",
    "\n",
    "##### Centroeste\n",
    "O curso mais concluido foi o ensino médio(5) com uma porcentagem por volta de 40% e o segundo mais concluido é a graduação(8) com porcentagem por volta de 24%.\n",
    "\n",
    "##### Sul\n",
    "O curso mais concluido foi o ensino médio(5) com uma porcentagem por volta de 34% e o segundo mais concluido é a graduação(8) com porcentagem por volta de 20%.\n",
    "\n",
    "##### Sudeste\n",
    "O curso mais concluido foi o ensino médio(5) com uma porcentagem por volta de 38% e o segundo mais concluido é a graduação(8) com porcentagem por volta de 21%.\n",
    "\n",
    "\n",
    "\n",
    "#### Diferença entre as porcentagens:\n",
    "\n",
    "    Norte: 32% de diferença\n",
    "    \n",
    "    Nordeste: 30% de diferença\n",
    "    \n",
    "    Centroeste: 16% de diferença\n",
    "    \n",
    "    Sul: 14% de diferença\n",
    "    \n",
    "    Sudeste: 17% de diferença"
   ]
  },
  {
   "cell_type": "code",
   "execution_count": 24,
   "metadata": {
    "collapsed": false
   },
   "outputs": [
    {
     "name": "stdout",
     "output_type": "stream",
     "text": [
      "Cruzando nossas duas analises:\n",
      "\n",
      "Norte:\n",
      "    Porcentagem da diferença: 32% \n",
      "    Pseudo taxa de natalidade: 1.39 \n",
      "\n",
      "Nordeste:\n",
      "    Porcentagem da diferença: 30% \n",
      "    Pseudo taxa de natalidade: 1.23 \n",
      "\n",
      "Centroeste:\n",
      "    Porcentagem da diferença: 16% \n",
      "    Pseudo taxa de natalidade: 1.09 \n",
      "\n",
      "Sul:\n",
      "    Porcentagem da diferença: 14%\n",
      "    Pseudo taxa de natalidade: 1.0 \n",
      "\n",
      "Sudeste:\n",
      "    Porcentagem da diferença: 17%\n",
      "    Pseudo taxa de natalidade: 1.08\n"
     ]
    }
   ],
   "source": [
    "print ('Cruzando nossas duas analises:\\n\\nNorte:\\n    Porcentagem da diferença: 32% \\n    Pseudo taxa de natalidade:', PTaxaN11.round(2), '\\n\\nNordeste:\\n    Porcentagem da diferença: 30% \\n    Pseudo taxa de natalidade:', PTaxaND11.round(2), '\\n\\nCentroeste:\\n    Porcentagem da diferença: 16% \\n    Pseudo taxa de natalidade:',PTaxaC11.round(2),'\\n\\nSul:\\n    Porcentagem da diferença: 14%\\n    Pseudo taxa de natalidade:',PTaxaS11.round(2), '\\n\\nSudeste:\\n    Porcentagem da diferença: 17%\\n    Pseudo taxa de natalidade:',PTaxaSD11.round(2))"
   ]
  },
  {
   "cell_type": "markdown",
   "metadata": {
    "collapsed": false
   },
   "source": [
    "Conclusão intermediaria: Nas regiões norte e nordeste onde a porcentagem da diferença é maior que 30% a nossa pseudo taxa esta acima de 1.2 e nas outras três regiões onde a diferença esta entre 14% e 17% a pseudo taxa esta abaixo de 1.1"
   ]
  },
  {
   "cell_type": "markdown",
   "metadata": {},
   "source": [
    "___\n",
    "## Resultados\n",
    "\n"
   ]
  },
  {
   "cell_type": "markdown",
   "metadata": {
    "collapsed": true
   },
   "source": [
    "Agora que temos as conclusões intermediarias sobre as duas PNADs vamos analisar as duas ao mesmo tempo e tirar nossas conclusões sobre esse projeto"
   ]
  },
  {
   "cell_type": "code",
   "execution_count": 25,
   "metadata": {
    "collapsed": false
   },
   "outputs": [
    {
     "name": "stdout",
     "output_type": "stream",
     "text": [
      "Norte:\n",
      "\n",
      "    2011:\n",
      "        Porcentagem da diferença: 32%\n",
      "        Pseudo taxa de natalidade: 1.39 \n",
      "\n",
      "    2015:\n",
      "        Porcentagem da diferença: 32%\n",
      "        Pseudo taxa de natalidade: 1.22 \n",
      "\n",
      "Nordeste:\n",
      "\n",
      "    2011:\n",
      "        Porcentagem da diferença: 30%\n",
      "        Pseudo taxa de natalidade: 1.23 \n",
      "\n",
      "    2015:\n",
      "        Porcentagem da diferença: 33%\n",
      "        Pseudo taxa de natalidade: 1.09 \n",
      "\n",
      "Centroeste:\n",
      "\n",
      "    2011:\n",
      "        Porcentagem da diferença: 16%\n",
      "        Pseudo taxa de natalidade: 1.09 \n",
      "\n",
      "    2015:\n",
      "        Porcentagem da diferença: 10%\n",
      "        Pseudo taxa de natalidade: 0.99 \n",
      "\n",
      "Sul:\n",
      "\n",
      "    2011:\n",
      "        Porcentagem da diferença: 14%\n",
      "        Pseudo taxa de natalidade: 1.0 \n",
      "\n",
      "    2015:\n",
      "        Porcentagem da diferença: 11%\n",
      "        Pseudo taxa de natalidade: 0.89 \n",
      "\n",
      "Sudeste:\n",
      "\n",
      "    2011:\n",
      "        Porcentagem da diferença: 17%\n",
      "        Pseudo taxa de natalidade: 1.08 \n",
      "\n",
      "    2015:\n",
      "        Porcentagem da diferença: 15%\n",
      "        Pseudo taxa de natalidade: 0.98\n"
     ]
    }
   ],
   "source": [
    "print ('Norte:\\n\\n    2011:\\n        Porcentagem da diferença: 32%\\n        Pseudo taxa de natalidade:', PTaxaN11.round(2), '\\n\\n    2015:\\n        Porcentagem da diferença: 32%\\n        Pseudo taxa de natalidade:', PTaxaN.round(2),'\\n')\n",
    "print ('Nordeste:\\n\\n    2011:\\n        Porcentagem da diferença: 30%\\n        Pseudo taxa de natalidade:', PTaxaND11.round(2), '\\n\\n    2015:\\n        Porcentagem da diferença: 33%\\n        Pseudo taxa de natalidade:', PTaxaND.round(2),'\\n')\n",
    "print ('Centroeste:\\n\\n    2011:\\n        Porcentagem da diferença: 16%\\n        Pseudo taxa de natalidade:', PTaxaC11.round(2), '\\n\\n    2015:\\n        Porcentagem da diferença: 10%\\n        Pseudo taxa de natalidade:', PTaxaC.round(2),'\\n')\n",
    "print ('Sul:\\n\\n    2011:\\n        Porcentagem da diferença: 14%\\n        Pseudo taxa de natalidade:', PTaxaS11.round(2), '\\n\\n    2015:\\n        Porcentagem da diferença: 11%\\n        Pseudo taxa de natalidade:', PTaxaS.round(2),'\\n')\n",
    "print ('Sudeste:\\n\\n    2011:\\n        Porcentagem da diferença: 17%\\n        Pseudo taxa de natalidade:', PTaxaSD11.round(2), '\\n\\n    2015:\\n        Porcentagem da diferença: 15%\\n        Pseudo taxa de natalidade:', PTaxaSD.round(2),)"
   ]
  },
  {
   "cell_type": "markdown",
   "metadata": {},
   "source": [
    "___\n",
    "## Conclusão "
   ]
  },
  {
   "cell_type": "markdown",
   "metadata": {
    "collapsed": true
   },
   "source": [
    "Com os resultados obtidos através da manipulação e interpretação das PNADS nossa hipótese se mostra irreal, sendo que as pseudo taxas de natalidade realmente tenderam a diminuir mais não sendo proporcionalmente a porcentagem da diferença, deixando a duvida se realmente a alguma ligação entre esses dois fatores.\n",
    "\n",
    "Um possivel jeito de melhorar essa analise seria implementando mais variaveis e mais possiveis fatoes que influenciam a taxa da pseudo natalidade em cada uma das regiões e analisar se a escolaridade esta ligada indiretamente a pseudo taxa através de outros fatoes"
   ]
  }
 ],
 "metadata": {
  "anaconda-cloud": {},
  "kernelspec": {
   "display_name": "Python 3",
   "language": "python",
   "name": "python3"
  },
  "language_info": {
   "codemirror_mode": {
    "name": "ipython",
    "version": 3
   },
   "file_extension": ".py",
   "mimetype": "text/x-python",
   "name": "python",
   "nbconvert_exporter": "python",
   "pygments_lexer": "ipython3",
   "version": "3.6.0"
  }
 },
 "nbformat": 4,
 "nbformat_minor": 1
}
