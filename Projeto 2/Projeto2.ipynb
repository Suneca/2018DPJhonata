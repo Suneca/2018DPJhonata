{
 "cells": [
  {
   "cell_type": "markdown",
   "metadata": {},
   "source": [
    "___\n",
    "# Ciência dos Dados - PROJETO 2"
   ]
  },
  {
   "cell_type": "markdown",
   "metadata": {},
   "source": [
    "___\n",
    "## Jhonata Ferreira\n",
    "\n",
    "## Matheus Augusto \n",
    "\n",
    "___"
   ]
  },
  {
   "cell_type": "markdown",
   "metadata": {},
   "source": [
    "___\n",
    "\n",
    "## 1. Problema\n",
    "\n",
    "O Classificador Naive-Bayes, o qual se baseia no uso do teorema de Bayes, é largamente utilizado em filtros anti-spam de e-mails. O classificador permite calcular qual a probabilidade de uma mensagem ser SPAM considerando as palavras em seu conteúdo e, de forma complementar, permite calcular a probabilidade de uma mensagem ser HAM dada as palavras descritas na mensagem.\n",
    "\n",
    "Para realizar o MVP (minimum viable product) do projeto, você precisa programar uma versão do classificador que \"aprende\" o que é uma mensagem SPAM considerando uma base de treinamento e comparar o desempenho dos resultados com uma base de testes. \n"
   ]
  },
  {
   "cell_type": "markdown",
   "metadata": {},
   "source": [
    "___\n",
    "## 2. Separação da base de dados em Treinamento e Teste\n",
    "\n",
    "A base de dados deve ser separada em duas partes, aleatoriamente, considerando: \n",
    "    \n",
    "    75% dos dados para a parte Treinamento; e\n",
    "    25% dos dados para a parte Teste."
   ]
  },
  {
   "cell_type": "code",
   "execution_count": 2,
   "metadata": {
    "collapsed": true
   },
   "outputs": [],
   "source": [
    "import pandas as pd\n",
    "import os\n",
    "import numpy as np\n",
    "import matplotlib.pyplot as plt"
   ]
  },
  {
   "cell_type": "code",
   "execution_count": 3,
   "metadata": {
    "collapsed": false
   },
   "outputs": [
    {
     "name": "stdout",
     "output_type": "stream",
     "text": [
      "Esperamos trabalhar no diretório\n",
      "C:\\Users\\jhona\\Downloads\\Ciencia dos Dados DP\\Projeto 2\n"
     ]
    }
   ],
   "source": [
    "print('Esperamos trabalhar no diretório')\n",
    "print(os.getcwd())"
   ]
  },
  {
   "cell_type": "code",
   "execution_count": 4,
   "metadata": {
    "collapsed": false
   },
   "outputs": [
    {
     "data": {
      "text/html": [
       "<div>\n",
       "<table border=\"1\" class=\"dataframe\">\n",
       "  <thead>\n",
       "    <tr style=\"text-align: right;\">\n",
       "      <th></th>\n",
       "      <th>Email</th>\n",
       "      <th>Class</th>\n",
       "    </tr>\n",
       "  </thead>\n",
       "  <tbody>\n",
       "    <tr>\n",
       "      <th>0</th>\n",
       "      <td>Go until jurong point, crazy.. Available only ...</td>\n",
       "      <td>ham</td>\n",
       "    </tr>\n",
       "    <tr>\n",
       "      <th>1</th>\n",
       "      <td>Ok lar... Joking wif u oni...</td>\n",
       "      <td>ham</td>\n",
       "    </tr>\n",
       "    <tr>\n",
       "      <th>2</th>\n",
       "      <td>Free entry in 2 a wkly comp to win FA Cup fina...</td>\n",
       "      <td>spam</td>\n",
       "    </tr>\n",
       "    <tr>\n",
       "      <th>3</th>\n",
       "      <td>U dun say so early hor... U c already then say...</td>\n",
       "      <td>ham</td>\n",
       "    </tr>\n",
       "    <tr>\n",
       "      <th>4</th>\n",
       "      <td>Nah I don't think he goes to usf, he lives aro...</td>\n",
       "      <td>ham</td>\n",
       "    </tr>\n",
       "  </tbody>\n",
       "</table>\n",
       "</div>"
      ],
      "text/plain": [
       "                                               Email Class\n",
       "0  Go until jurong point, crazy.. Available only ...   ham\n",
       "1                      Ok lar... Joking wif u oni...   ham\n",
       "2  Free entry in 2 a wkly comp to win FA Cup fina...  spam\n",
       "3  U dun say so early hor... U c already then say...   ham\n",
       "4  Nah I don't think he goes to usf, he lives aro...   ham"
      ]
     },
     "execution_count": 4,
     "metadata": {},
     "output_type": "execute_result"
    }
   ],
   "source": [
    "dados = pd.read_excel('spamhamV2.xlsx',sep=',')\n",
    "dados.head()"
   ]
  },
  {
   "cell_type": "code",
   "execution_count": 5,
   "metadata": {
    "collapsed": true
   },
   "outputs": [],
   "source": [
    "treinamento=dados.sample(frac=0.75)\n",
    "treinamento.reset_index(drop = True, inplace = True)\n",
    "teste=dados.drop(treinamento.index)\n",
    "teste.reset_index(drop = True, inplace = True)"
   ]
  },
  {
   "cell_type": "code",
   "execution_count": 6,
   "metadata": {
    "collapsed": false
   },
   "outputs": [
    {
     "data": {
      "text/html": [
       "<div>\n",
       "<table border=\"1\" class=\"dataframe\">\n",
       "  <thead>\n",
       "    <tr style=\"text-align: right;\">\n",
       "      <th></th>\n",
       "      <th>Email</th>\n",
       "      <th>Class</th>\n",
       "    </tr>\n",
       "  </thead>\n",
       "  <tbody>\n",
       "    <tr>\n",
       "      <th>0</th>\n",
       "      <td>Good morning, my Love ... I go to sleep now an...</td>\n",
       "      <td>ham</td>\n",
       "    </tr>\n",
       "    <tr>\n",
       "      <th>1</th>\n",
       "      <td>Hanging out with my brother and his family</td>\n",
       "      <td>ham</td>\n",
       "    </tr>\n",
       "    <tr>\n",
       "      <th>2</th>\n",
       "      <td>Send to someone else :-)</td>\n",
       "      <td>ham</td>\n",
       "    </tr>\n",
       "    <tr>\n",
       "      <th>3</th>\n",
       "      <td>HOT LIVE FANTASIES call now 08707509020 Just 2...</td>\n",
       "      <td>spam</td>\n",
       "    </tr>\n",
       "    <tr>\n",
       "      <th>4</th>\n",
       "      <td>Ok set let u noe e details later...</td>\n",
       "      <td>ham</td>\n",
       "    </tr>\n",
       "  </tbody>\n",
       "</table>\n",
       "</div>"
      ],
      "text/plain": [
       "                                               Email Class\n",
       "0  Good morning, my Love ... I go to sleep now an...   ham\n",
       "1         Hanging out with my brother and his family   ham\n",
       "2                           Send to someone else :-)   ham\n",
       "3  HOT LIVE FANTASIES call now 08707509020 Just 2...  spam\n",
       "4                Ok set let u noe e details later...   ham"
      ]
     },
     "execution_count": 6,
     "metadata": {},
     "output_type": "execute_result"
    }
   ],
   "source": [
    "treinamento.head()"
   ]
  },
  {
   "cell_type": "code",
   "execution_count": 7,
   "metadata": {
    "collapsed": false
   },
   "outputs": [
    {
     "data": {
      "text/html": [
       "<div>\n",
       "<table border=\"1\" class=\"dataframe\">\n",
       "  <thead>\n",
       "    <tr style=\"text-align: right;\">\n",
       "      <th></th>\n",
       "      <th>Email</th>\n",
       "      <th>Class</th>\n",
       "    </tr>\n",
       "  </thead>\n",
       "  <tbody>\n",
       "    <tr>\n",
       "      <th>0</th>\n",
       "      <td>swhrt how u dey,hope ur ok, tot about u 2day.l...</td>\n",
       "      <td>ham</td>\n",
       "    </tr>\n",
       "    <tr>\n",
       "      <th>1</th>\n",
       "      <td>Ok da, i already planned. I wil pick you.</td>\n",
       "      <td>ham</td>\n",
       "    </tr>\n",
       "    <tr>\n",
       "      <th>2</th>\n",
       "      <td>Urgent! Please call 0906346330. Your ABTA comp...</td>\n",
       "      <td>spam</td>\n",
       "    </tr>\n",
       "    <tr>\n",
       "      <th>3</th>\n",
       "      <td>Sorry, I'll call later in meeting</td>\n",
       "      <td>ham</td>\n",
       "    </tr>\n",
       "    <tr>\n",
       "      <th>4</th>\n",
       "      <td>I just really need shit before tomorrow and I ...</td>\n",
       "      <td>ham</td>\n",
       "    </tr>\n",
       "  </tbody>\n",
       "</table>\n",
       "</div>"
      ],
      "text/plain": [
       "                                               Email Class\n",
       "0  swhrt how u dey,hope ur ok, tot about u 2day.l...   ham\n",
       "1          Ok da, i already planned. I wil pick you.   ham\n",
       "2  Urgent! Please call 0906346330. Your ABTA comp...  spam\n",
       "3                  Sorry, I'll call later in meeting   ham\n",
       "4  I just really need shit before tomorrow and I ...   ham"
      ]
     },
     "execution_count": 7,
     "metadata": {},
     "output_type": "execute_result"
    }
   ],
   "source": [
    "teste.head()"
   ]
  },
  {
   "cell_type": "code",
   "execution_count": 8,
   "metadata": {
    "collapsed": true
   },
   "outputs": [],
   "source": [
    "Ham_t = treinamento.loc[treinamento.Class == 'ham']\n",
    "Spam_t = treinamento.loc[treinamento.Class == 'spam']"
   ]
  },
  {
   "cell_type": "code",
   "execution_count": 9,
   "metadata": {
    "collapsed": true
   },
   "outputs": [],
   "source": [
    "def clean(lista):\n",
    "    i=0\n",
    "    while i < len (lista):\n",
    "        lista[i]=lista[i].replace(\"_\",\" \")\n",
    "        lista[i]=lista[i].replace(\"'\",\" \")\n",
    "        lista[i]=lista[i].replace(\"?\",\" \")\n",
    "        lista[i]=lista[i].replace(\"$\",\" \")\n",
    "        lista[i]=lista[i].replace(\"*\",\" \")\n",
    "        lista[i]=lista[i].replace(\"%\",\" \")\n",
    "        lista[i]=lista[i].replace(\"-\",\" \")\n",
    "        lista[i]=lista[i].replace(\"<\",\" \")\n",
    "        lista[i]=lista[i].replace(\">\",\" \")\n",
    "        lista[i]=lista[i].replace(\"'\",\" \")\n",
    "        lista[i]=lista[i].replace('\"',\" \")\n",
    "        lista[i]=lista[i].replace(\"!\",\" \")\n",
    "        lista[i]=lista[i].replace(\".\",\" \")\n",
    "        lista[i]=lista[i].replace(\",\",\" \")\n",
    "        lista[i]=lista[i].replace(\"|\",\" \")\n",
    "        lista[i]=lista[i].replace(\":\",\" \")\n",
    "        lista[i]=lista[i].replace(\"&\",\" \")\n",
    "        lista[i]=lista[i].replace(\"(\",\" \")\n",
    "        lista[i]=lista[i].replace(\")\",\" \")\n",
    "        lista[i]=lista[i].replace(\"+\",\" \")\n",
    "        lista[i]=lista[i].replace(\"#\",\" \")\n",
    "        lista[i]=lista[i].replace(\"^\",\" \")\n",
    "        lista[i]=lista[i].replace(\"÷\",\" \")\n",
    "        lista[i]=lista[i].replace(\"and\",\" \")\n",
    "        lista[i]=lista[i].replace(\"is\",\" \")\n",
    "        i+=1\n",
    "    lista=list(filter(None, lista))\n",
    "\n",
    "    return lista"
   ]
  },
  {
   "cell_type": "code",
   "execution_count": 10,
   "metadata": {
    "collapsed": true
   },
   "outputs": [],
   "source": [
    "#Criando listas com palavras\n",
    "Ham_palavras = []\n",
    "for email in Ham_t.Email:\n",
    "    palavras = email.split()\n",
    "    for palavra in palavras:\n",
    "        Ham_palavras.append(palavra)\n",
    "        \n",
    "Spam_palavras = []\n",
    "for email in Spam_t.Email:\n",
    "    palavras = email.split()\n",
    "    for palavra in palavras:\n",
    "        Spam_palavras.append(palavra)\n",
    "\n",
    "Treinamento_palavras_totais = []\n",
    "for email in treinamento.Email:\n",
    "    palavras = email.split()\n",
    "    for palavra in palavras:\n",
    "        Treinamento_palavras_totais.append(palavra)\n",
    "Treinamento_palavras = np.unique(Treinamento_palavras_totais)"
   ]
  },
  {
   "cell_type": "code",
   "execution_count": 11,
   "metadata": {
    "collapsed": true
   },
   "outputs": [],
   "source": [
    "ham_clean=clean(Ham_palavras)\n",
    "spam_clean=clean(Spam_palavras)\n",
    "treinamento_clean=(Treinamento_palavras)\n"
   ]
  },
  {
   "cell_type": "code",
   "execution_count": null,
   "metadata": {
    "collapsed": true
   },
   "outputs": [],
   "source": [
    "Treinamento_palavras"
   ]
  },
  {
   "cell_type": "markdown",
   "metadata": {},
   "source": [
    "\n",
    "## 3. Classificador Naive-Bayes"
   ]
  },
  {
   "cell_type": "code",
   "execution_count": 12,
   "metadata": {
    "collapsed": false
   },
   "outputs": [],
   "source": [
    "#P(SPAM)\n",
    "Pspam = len(Spam_t)/len(treinamento)\n",
    "\n",
    "#P(HAM)\n",
    "Pham = 1 - Pspam\n",
    "\n",
    "#P(word/SPAM)\n",
    "def PwordSPAM(word):\n",
    "    word_count = Spam_palavras.count(word)\n",
    "    word_count = word_count + 1\n",
    "    Pdivisor = len(Spam_palavras) + len(Treinamento_palavras)\n",
    "    Pwspam = word_count/Pdivisor\n",
    "    return Pwspam\n",
    "\n",
    "#P(word/HAM)\n",
    "def PwordHAM(word):\n",
    "    word_count = Ham_palavras.count(word)\n",
    "    word_count = word_count + 1\n",
    "    Pdivisor = len(Ham_palavras) + len(Treinamento_palavras)\n",
    "    Pwham = word_count/Pdivisor\n",
    "    return Pwham\n",
    "\n",
    "def Pword(word):\n",
    "    word_count = Treinamento_palavras_totais.count(word)\n",
    "    word_count = word_count + 1\n",
    "    Pdivisor = len(Treinamento_palavras_totais) + len(Treinamento_palavras)\n",
    "    Pw = word_count/Pdivisor\n",
    "    return Pw"
   ]
  },
  {
   "cell_type": "code",
   "execution_count": 13,
   "metadata": {
    "collapsed": true
   },
   "outputs": [],
   "source": [
    "# Classificador\n",
    "\n",
    "def Class_PSPAM(mensagem):\n",
    "    P = 1\n",
    "    for palavra in mensagem:\n",
    "        P = P * PwordSPAM(palavra)\n",
    "    return P\n",
    "\n",
    "def Class_PHAM(mensagem):\n",
    "    P = 1\n",
    "    for palavra in mensagem:\n",
    "        P = P * PwordHAM(palavra)\n",
    "    return P\n",
    "\n",
    "def Class_P(mensagem):\n",
    "    P = 1\n",
    "    for palavra in mensagem:\n",
    "        P = P * Pword(palavra)\n",
    "    return P"
   ]
  },
  {
   "cell_type": "code",
   "execution_count": 14,
   "metadata": {
    "collapsed": false,
    "scrolled": true
   },
   "outputs": [
    {
     "name": "stderr",
     "output_type": "stream",
     "text": [
      "C:\\ProgramData\\Anaconda3\\lib\\site-packages\\pandas\\core\\indexing.py:141: SettingWithCopyWarning: \n",
      "A value is trying to be set on a copy of a slice from a DataFrame\n",
      "\n",
      "See the caveats in the documentation: http://pandas.pydata.org/pandas-docs/stable/indexing.html#indexing-view-versus-copy\n",
      "  self._setitem_with_indexer(indexer, value)\n"
     ]
    }
   ],
   "source": [
    "teste['Teste'] = 0\n",
    "\n",
    "for index in range(0,len(teste)):\n",
    "    mensagem = teste.Email[index]\n",
    "    mensagem = clean(mensagem.split())\n",
    "    if Class_PSPAM(mensagem)*Pspam < Class_PHAM(mensagem)*Pham:\n",
    "        teste.Teste.loc[index] = 'ham'\n",
    "        \n",
    "    else:\n",
    "        teste.Teste.loc[index] = 'spam'"
   ]
  },
  {
   "cell_type": "code",
   "execution_count": 15,
   "metadata": {
    "collapsed": false,
    "scrolled": false
   },
   "outputs": [
    {
     "data": {
      "text/html": [
       "<div>\n",
       "<table border=\"1\" class=\"dataframe\">\n",
       "  <thead>\n",
       "    <tr style=\"text-align: right;\">\n",
       "      <th>Teste</th>\n",
       "      <th>ham</th>\n",
       "      <th>spam</th>\n",
       "    </tr>\n",
       "    <tr>\n",
       "      <th>Class</th>\n",
       "      <th></th>\n",
       "      <th></th>\n",
       "    </tr>\n",
       "  </thead>\n",
       "  <tbody>\n",
       "    <tr>\n",
       "      <th>ham</th>\n",
       "      <td>1196</td>\n",
       "      <td>15</td>\n",
       "    </tr>\n",
       "    <tr>\n",
       "      <th>spam</th>\n",
       "      <td>5</td>\n",
       "      <td>177</td>\n",
       "    </tr>\n",
       "  </tbody>\n",
       "</table>\n",
       "</div>"
      ],
      "text/plain": [
       "Teste   ham  spam\n",
       "Class            \n",
       "ham    1196    15\n",
       "spam      5   177"
      ]
     },
     "execution_count": 15,
     "metadata": {},
     "output_type": "execute_result"
    }
   ],
   "source": [
    "resultado = pd.crosstab(teste.Class, teste.Teste)\n",
    "resultado"
   ]
  },
  {
   "cell_type": "code",
   "execution_count": 16,
   "metadata": {
    "collapsed": false
   },
   "outputs": [
    {
     "name": "stdout",
     "output_type": "stream",
     "text": [
      "Teste   ham  spam\n",
      "Class            \n",
      "ham    1196    15\n",
      "spam      5   177\n"
     ]
    }
   ],
   "source": [
    "print(resultado)"
   ]
  },
  {
   "cell_type": "code",
   "execution_count": 17,
   "metadata": {
    "collapsed": false
   },
   "outputs": [
    {
     "data": {
      "text/html": [
       "<div>\n",
       "<table border=\"1\" class=\"dataframe\">\n",
       "  <thead>\n",
       "    <tr style=\"text-align: right;\">\n",
       "      <th></th>\n",
       "      <th>Email</th>\n",
       "      <th>Class</th>\n",
       "      <th>Teste</th>\n",
       "    </tr>\n",
       "  </thead>\n",
       "  <tbody>\n",
       "    <tr>\n",
       "      <th>0</th>\n",
       "      <td>swhrt how u dey,hope ur ok, tot about u 2day.l...</td>\n",
       "      <td>ham</td>\n",
       "      <td>ham</td>\n",
       "    </tr>\n",
       "    <tr>\n",
       "      <th>1</th>\n",
       "      <td>Ok da, i already planned. I wil pick you.</td>\n",
       "      <td>ham</td>\n",
       "      <td>ham</td>\n",
       "    </tr>\n",
       "    <tr>\n",
       "      <th>2</th>\n",
       "      <td>Urgent! Please call 0906346330. Your ABTA comp...</td>\n",
       "      <td>spam</td>\n",
       "      <td>spam</td>\n",
       "    </tr>\n",
       "    <tr>\n",
       "      <th>3</th>\n",
       "      <td>Sorry, I'll call later in meeting</td>\n",
       "      <td>ham</td>\n",
       "      <td>ham</td>\n",
       "    </tr>\n",
       "    <tr>\n",
       "      <th>4</th>\n",
       "      <td>I just really need shit before tomorrow and I ...</td>\n",
       "      <td>ham</td>\n",
       "      <td>ham</td>\n",
       "    </tr>\n",
       "  </tbody>\n",
       "</table>\n",
       "</div>"
      ],
      "text/plain": [
       "                                               Email Class Teste\n",
       "0  swhrt how u dey,hope ur ok, tot about u 2day.l...   ham   ham\n",
       "1          Ok da, i already planned. I wil pick you.   ham   ham\n",
       "2  Urgent! Please call 0906346330. Your ABTA comp...  spam  spam\n",
       "3                  Sorry, I'll call later in meeting   ham   ham\n",
       "4  I just really need shit before tomorrow and I ...   ham   ham"
      ]
     },
     "execution_count": 17,
     "metadata": {},
     "output_type": "execute_result"
    }
   ],
   "source": [
    "teste.head()"
   ]
  },
  {
   "cell_type": "markdown",
   "metadata": {},
   "source": [
    "___\n",
    "## 4. Curva ROC"
   ]
  },
  {
   "cell_type": "code",
   "execution_count": 71,
   "metadata": {
    "collapsed": false
   },
   "outputs": [],
   "source": [
    "for index in range(0,len(teste)):\n",
    "    \n",
    "    mensagem = teste.Email[index]\n",
    "    mensagem = clean(mensagem.split())\n",
    "    mensagem = ' '.join(mensagem)\n",
    "    teste.Email[index] = mensagem\n"
   ]
  },
  {
   "cell_type": "code",
   "execution_count": null,
   "metadata": {
    "collapsed": false,
    "scrolled": false
   },
   "outputs": [],
   "source": [
    "EspecC = []\n",
    "Sens = []\n",
    "PC = []\n",
    "\n",
    "for pc in np.arange(0.1,1,0.01):\n",
    "\n",
    "\n",
    "    for index in range(0,len(teste)):\n",
    "        \n",
    "        mensagem = teste.Email[index]\n",
    "        mensagem = mensagem.split()\n",
    "        aaa = Class_PSPAM(mensagem)\n",
    "        aab = Class_PHAM(mensagem)\n",
    "        if aaa*Pspam > pc*(aaa*Pspam+aab*Pham):\n",
    "            teste.Teste.loc[index] = 'spam'\n",
    "            \n",
    "        else:\n",
    "            teste.Teste.loc[index] = 'ham'\n",
    "        \n",
    "    resultado = pd.crosstab(teste.Class, teste.Teste)\n",
    "    \n",
    "    if resultado.shape[1] == 1:\n",
    "        print('break')\n",
    "        break\n",
    "\n",
    "    sens = resultado.spam[1]/(resultado.spam[0] + resultado.spam[1])\n",
    "    espec = resultado.ham[0]/(resultado.ham[0] + resultado.ham[1])\n",
    "    \n",
    "    EspecC.append(1 - espec)\n",
    "    Sens.append(sens)\n",
    "    PC.append(pc)"
   ]
  },
  {
   "cell_type": "code",
   "execution_count": 73,
   "metadata": {
    "collapsed": false
   },
   "outputs": [
    {
     "data": {
      "image/png": "[encoded data removed]",
      "text/plain": [
       "<matplotlib.figure.Figure at 0x1f6863d0198>"
      ]
     },
     "metadata": {},
     "output_type": "display_data"
    }
   ],
   "source": [
    "plt.scatter(EspecC,Sens)\n",
    "plt.show()"
   ]
  },
  {
   "cell_type": "code",
   "execution_count": 56,
   "metadata": {
    "collapsed": false
   },
   "outputs": [
    {
     "data": {
      "text/plain": [
       "[0.29999999999999999,\n",
       " 0.31,\n",
       " 0.32000000000000001,\n",
       " 0.33000000000000002,\n",
       " 0.34000000000000002,\n",
       " 0.35000000000000003,\n",
       " 0.36000000000000004,\n",
       " 0.37000000000000005,\n",
       " 0.38000000000000006,\n",
       " 0.39000000000000007,\n",
       " 0.40000000000000008,\n",
       " 0.41000000000000009,\n",
       " 0.4200000000000001,\n",
       " 0.4300000000000001,\n",
       " 0.44000000000000011,\n",
       " 0.45000000000000012,\n",
       " 0.46000000000000013,\n",
       " 0.47000000000000014,\n",
       " 0.48000000000000015,\n",
       " 0.49000000000000016,\n",
       " 0.50000000000000022]"
      ]
     },
     "execution_count": 56,
     "metadata": {},
     "output_type": "execute_result"
    }
   ],
   "source": [
    "PC"
   ]
  },
  {
   "cell_type": "code",
   "execution_count": null,
   "metadata": {
    "collapsed": false
   },
   "outputs": [],
   "source": []
  },
  {
   "cell_type": "code",
   "execution_count": null,
   "metadata": {
    "collapsed": false
   },
   "outputs": [],
   "source": []
  },
  {
   "cell_type": "code",
   "execution_count": null,
   "metadata": {
    "collapsed": false
   },
   "outputs": [],
   "source": []
  },
  {
   "cell_type": "code",
   "execution_count": null,
   "metadata": {
    "collapsed": false
   },
   "outputs": [],
   "source": []
  },
  {
   "cell_type": "code",
   "execution_count": null,
   "metadata": {
    "collapsed": true
   },
   "outputs": [],
   "source": []
  },
  {
   "cell_type": "code",
   "execution_count": null,
   "metadata": {
    "collapsed": true,
    "scrolled": true
   },
   "outputs": [],
   "source": []
  },
  {
   "cell_type": "markdown",
   "metadata": {},
   "source": [
    "___\n",
    "## 5. Qualidade do Classificador alterando a base de treinamento"
   ]
  },
  {
   "cell_type": "code",
   "execution_count": null,
   "metadata": {
    "collapsed": true
   },
   "outputs": [],
   "source": []
  },
  {
   "cell_type": "code",
   "execution_count": null,
   "metadata": {
    "collapsed": true
   },
   "outputs": [],
   "source": []
  },
  {
   "cell_type": "code",
   "execution_count": null,
   "metadata": {
    "collapsed": true
   },
   "outputs": [],
   "source": []
  },
  {
   "cell_type": "code",
   "execution_count": null,
   "metadata": {
    "collapsed": true
   },
   "outputs": [],
   "source": []
  }
 ],
 "metadata": {
  "anaconda-cloud": {},
  "kernelspec": {
   "display_name": "Python 3",
   "language": "python",
   "name": "python3"
  },
  "language_info": {
   "codemirror_mode": {
    "name": "ipython",
    "version": 3
   },
   "file_extension": ".py",
   "mimetype": "text/x-python",
   "name": "python",
   "nbconvert_exporter": "python",
   "pygments_lexer": "ipython3",
   "version": "3.6.0"
  }
 },
 "nbformat": 4,
 "nbformat_minor": 1
}
