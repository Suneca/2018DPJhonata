{
 "cells": [
  {
   "cell_type": "markdown",
   "metadata": {},
   "source": [
    "___\n",
    "## <font color='blue'>Exercício 1</font>\n",
    "\n",
    "\n",
    "#### Este exercício irá explorar  construção de árvore de probabilidades com eventos e construção da distribuição de probabilidades de uma variável aleatória discreta. Ainda, irá explorar o modelo de distribuição probabilística Binomial\n",
    "\n",
    "Um resistor de 100K Ohms comprado na Santa Efigênia tem probabilidade de falha de 5%, segundo um fabricante ruim.\n",
    "\n",
    "Ainda, por suposição, admita que os resistores falhem de forma independente entre si.\n",
    "\n",
    "Um aluno de engenharia compra um pacote contendo $n$ resistores.\n",
    "\n",
    "1. Assuma $n=3$ e faça os itens a seguir.\n",
    "  1. Monte o espaço amostral que combine todos os resultados possíveis de Falha e não Falha desses $n$ resistores. Ainda, calcule a probabilidade de cada resultado do espaço amostral acontecer.\n",
    "  2. Se $Y$ representa o número de resistores que falham em um pacotinho com $n$ resistores, então construa a distribuição de probabilidades de $Y$.\n",
    "  3. Calcule a média e o desvio padrão de $Y$. Interprete os resultados.\n",
    "  4. Utilizando o modelo probabilístico da distribuição Binomial, encontre a distribuição de probabilidades de cada possível valor de $Y$. Calcule também $E(Y)$ e $Var(Y)$. Compare com as distribuições de probabilidades obtidas nos itens anteriores e discuta porque esses valores são iguais ou diferentes!\n",
    "   \n",
    "2. Assuma $n=7$ e repita os itens A) a D) anteriores. No caso de $n=7$ ou maiores quantidades de resistores em um pacotinho, qual a viabilidade de construir a distribuição de probabilidades do número de resistores com defeitos quando $n$ não é pequeno seguindo os itens de A) a C)?\n",
    " \n",
    "3. Com $n=100$, por exemplo, é extremamente inviável a construção de árvore de probabilidades até mesmo utilizando a poderosa ferramenta Python. \n",
    "  1. No caso assuma $n=100$ e repita o item 1.D) anterior. \n",
    "  2. Ainda, calcule a probabilidade de, em um pacote com 100 resistores, pelo menos a metade deles apresentarem falha?\n",
    "\n",
    "\n",
    "A seguir, um resumo sobre o modelo teórico Binomial!    \n",
    "> \n",
    "\n",
    "> **DISTRIBUIÇÃO BINOMIAL - TEORIA:**\n",
    "\n",
    "> É responsável por modelar uma variável $Y$ definida pelo Número de sucessos em $n$ tentativas, cuja probabilidade de sucesso é dada por $p$. Assim, dizemos que $Y$~$Bin(n,p)$ e lê-se: $Y$ segue uma distribuição binomial com $n$ tentativas e $p$ como probabilidade de sucesso. \n",
    "\n",
    "> A função de probabilidade nesse caso é dada por:\n",
    "$P(Y=y)=\\left(\n",
    "\\begin{array}{c}\n",
    "    n \\\\\n",
    "    y\n",
    "\\end{array}\\right) p^y (1-p)^{(n-y)}$\n",
    "\n",
    "> Para um experimento ter as probabilidade dos números de sucessos modeladas por uma distribuição Binomial, o mesmo precisa ter as seguintes propriedades:\n",
    "* é uma contagem de $n$ repetições (ou tentativas ou ensaios) idênticas;\n",
    "* cada repetição tem apenas 2 resultados possíveis: um é denominado sucesso e o outro, fracasso;\n",
    "* a probabilidade de sucesso para cada ensaio é denominada $p$ e será constante em cada repetição. Então, a probabilidade de fracasso $(1-p)$ também não varia de tentativa para tentativa;\n",
    "* As tentativas são independentes.\n",
    "\n",
    "\n",
    "> **DISTRIBUIÇÃO BINOMIAL - PYTHON:** <sup> [https://en.wikipedia.org/wiki/SciPy]\n",
    "\n",
    "> Algumas funções úteis para desenvolver seu código: <sup> [http://docs.scipy.org/doc/scipy-0.16.1/reference/generated/scipy.stats.binom.html]\n",
    "* $P(Y=y)$: `stats.binom.pmf(y, n, p)`\n",
    "* $P(Y\\leq y)$: `stats.binom.cdf(y, n, p)`\n",
    "* $E(Y)$ e $Var(Y)$: `stats.binom.stats(n, p, moments='mv')`\n",
    "\n"
   ]
  },
  {
   "cell_type": "code",
   "execution_count": 4,
   "metadata": {
    "collapsed": true
   },
   "outputs": [],
   "source": [
    "%matplotlib inline\n",
    "import pandas as pd\n",
    "import matplotlib.pyplot as plt\n",
    "\n",
    "from scipy import stats \n",
    "import itertools "
   ]
  },
  {
   "cell_type": "code",
   "execution_count": 5,
   "metadata": {
    "collapsed": false
   },
   "outputs": [
    {
     "name": "stdout",
     "output_type": "stream",
     "text": [
      "A. \n",
      "Espaço Amostral           Probabilidade\n",
      " F   F   F                  0.000125\n",
      " NF  F   F                  0.045125\n",
      " F   NF  F                  0.045125\n",
      " F   F   NF                 0.045125\n",
      " NF  NF  F                  0.002375\n",
      " NF  F   NF                 0.002375\n",
      " F   NF  NF                 0.002375\n",
      " NF  NF  NF                 0.857375\n",
      "\n",
      "\n",
      "B.\n",
      "   y         P(Y=y)\n",
      "  3F          0.000125\n",
      "  2F          0.007125\n",
      "  1F          0.135375\n",
      "  0F          0.857375\n",
      "\n",
      "\n",
      "C.\n",
      " E(Y) = 0.15000000000000002\n",
      " Var(Y) = 0.14250000000000002\n",
      " DP(Y) = 0.3774917217635375\n",
      "\n",
      " \n",
      "D.\n",
      " P(Y = 3) = 0.000125   \n",
      " P(Y = 2) = 0.007125\n",
      " P(Y = 1) = 0.135375\n",
      " P(Y = 0) = 0.857375\n",
      " Esses valores são iguais as probabilidades calculadas nos itens anteriores porque eles estão calculando a mesma probabilidade\n",
      "\n",
      "\n"
     ]
    }
   ],
   "source": [
    "n=3\n",
    "\n",
    "print('A. \\nEspaço Amostral           Probabilidade\\n F   F   F                  {}\\n NF  F   F                  {}\\n F   NF  F                  {}\\n F   F   NF                 {}\\n NF  NF  F                  {}\\n NF  F   NF                 {}\\n F   NF  NF                 {}\\n NF  NF  NF                 {}\\n\\n'.format(round(0.05**3,7),(0.95**2)*0.05,(0.95**2)*0.05,(0.95**2)*0.05,round((0.05**2)*0.95,7),round((0.05**2)*0.95,7),round((0.05**2)*0.95,7),round(0.95**3,7)))\n",
    "\n",
    "\n",
    "print('B.\\n   y         P(Y=y)\\n  3F          {}\\n  2F          {}\\n  1F          {}\\n  0F          {}\\n\\n'.format(round(0.05**3,7),round(((0.05**2)*0.95)*3,7),((0.95**2)*0.05)*3,round(0.95**3,7)))\n",
    "\n",
    "\n",
    "print('C.\\n E(Y) = {}\\n Var(Y) = {}\\n DP(Y) = {}\\n\\n '.format(stats.binom.stats(3, 0.05, moments='mv')[0],stats.binom.stats(3, 0.05, moments='mv')[1],stats.binom.stats(3, 0.05, moments='mv')[1]**(1/2)))\n",
    "\n",
    "\n",
    "print('D.\\n P(Y = 3) = {}   \\n P(Y = 2) = {}\\n P(Y = 1) = {}\\n P(Y = 0) = {}\\n Esses valores são iguais as probabilidades calculadas nos itens anteriores porque eles estão calculando a mesma probabilidade\\n\\n'.format(stats.binom.pmf(3, 3, 0.05),round(stats.binom.pmf(2, 3, 0.05),7),stats.binom.pmf(1, 3, 0.05),stats.binom.pmf(0, 3, 0.05)))\n"
   ]
  },
  {
   "cell_type": "code",
   "execution_count": null,
   "metadata": {
    "collapsed": true
   },
   "outputs": [],
   "source": []
  }
 ],
 "metadata": {
  "kernelspec": {
   "display_name": "Python 3",
   "language": "python",
   "name": "python3"
  }
 },
 "nbformat": 4,
 "nbformat_minor": 2
}
